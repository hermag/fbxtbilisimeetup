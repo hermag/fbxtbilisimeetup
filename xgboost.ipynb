{
 "cells": [
  {
   "cell_type": "code",
   "execution_count": 13,
   "id": "45f154ca-a600-4478-b35c-f21833d0c4ee",
   "metadata": {
    "tags": []
   },
   "outputs": [
    {
     "name": "stdout",
     "output_type": "stream",
     "text": [
      "Requirement already satisfied: pip in /home/ec2-user/anaconda3/envs/tensorflow2_p310/lib/python3.10/site-packages (23.3.2)\n",
      "Note: you may need to restart the kernel to use updated packages.\n",
      "Requirement already satisfied: pandas in /home/ec2-user/anaconda3/envs/tensorflow2_p310/lib/python3.10/site-packages (2.2.0)\n",
      "Requirement already satisfied: numpy<2,>=1.22.4 in /home/ec2-user/anaconda3/envs/tensorflow2_p310/lib/python3.10/site-packages (from pandas) (1.24.4)\n",
      "Requirement already satisfied: python-dateutil>=2.8.2 in /home/ec2-user/anaconda3/envs/tensorflow2_p310/lib/python3.10/site-packages (from pandas) (2.8.2)\n",
      "Requirement already satisfied: pytz>=2020.1 in /home/ec2-user/anaconda3/envs/tensorflow2_p310/lib/python3.10/site-packages (from pandas) (2023.3.post1)\n",
      "Requirement already satisfied: tzdata>=2022.7 in /home/ec2-user/anaconda3/envs/tensorflow2_p310/lib/python3.10/site-packages (from pandas) (2023.3)\n",
      "Requirement already satisfied: six>=1.5 in /home/ec2-user/anaconda3/envs/tensorflow2_p310/lib/python3.10/site-packages (from python-dateutil>=2.8.2->pandas) (1.16.0)\n",
      "Note: you may need to restart the kernel to use updated packages.\n",
      "Requirement already satisfied: xgboost==1.6.1 in /home/ec2-user/anaconda3/envs/tensorflow2_p310/lib/python3.10/site-packages (1.6.1)\n",
      "Requirement already satisfied: numpy in /home/ec2-user/anaconda3/envs/tensorflow2_p310/lib/python3.10/site-packages (from xgboost==1.6.1) (1.24.4)\n",
      "Requirement already satisfied: scipy in /home/ec2-user/anaconda3/envs/tensorflow2_p310/lib/python3.10/site-packages (from xgboost==1.6.1) (1.11.3)\n",
      "Note: you may need to restart the kernel to use updated packages.\n",
      "Requirement already satisfied: scikit-learn in /home/ec2-user/anaconda3/envs/tensorflow2_p310/lib/python3.10/site-packages (1.4.0)\n",
      "Requirement already satisfied: numpy<2.0,>=1.19.5 in /home/ec2-user/anaconda3/envs/tensorflow2_p310/lib/python3.10/site-packages (from scikit-learn) (1.24.4)\n",
      "Requirement already satisfied: scipy>=1.6.0 in /home/ec2-user/anaconda3/envs/tensorflow2_p310/lib/python3.10/site-packages (from scikit-learn) (1.11.3)\n",
      "Requirement already satisfied: joblib>=1.2.0 in /home/ec2-user/anaconda3/envs/tensorflow2_p310/lib/python3.10/site-packages (from scikit-learn) (1.3.2)\n",
      "Requirement already satisfied: threadpoolctl>=2.0.0 in /home/ec2-user/anaconda3/envs/tensorflow2_p310/lib/python3.10/site-packages (from scikit-learn) (3.2.0)\n",
      "Note: you may need to restart the kernel to use updated packages.\n"
     ]
    },
    {
     "data": {
      "text/plain": [
       "'1.4.0'"
      ]
     },
     "execution_count": 13,
     "metadata": {},
     "output_type": "execute_result"
    }
   ],
   "source": [
    "%pip install --upgrade pip\n",
    "%pip install pandas --upgrade\n",
    "%pip install xgboost==1.6.1\n",
    "%pip install scikit-learn --upgrade\n",
    "import sklearn\n",
    "sklearn.__version__"
   ]
  },
  {
   "cell_type": "code",
   "execution_count": 14,
   "id": "8c9b6fdd-23da-4289-b160-40dce7e0f120",
   "metadata": {
    "tags": []
   },
   "outputs": [],
   "source": [
    "from IPython.display import FileLink, FileLinks\n",
    "from datetime import datetime, timedelta\n",
    "from sagemaker.debugger import Rule, rule_configs\n",
    "from sagemaker.processing import ProcessingInput, ProcessingOutput\n",
    "from sagemaker.sklearn.processing import SKLearnProcessor\n",
    "from sklearn.metrics import (\n",
    "    ConfusionMatrixDisplay,\n",
    "    accuracy_score,\n",
    "    confusion_matrix,\n",
    "    precision_score,\n",
    "    recall_score,\n",
    "    roc_auc_score,\n",
    ")\n",
    "from sklearn.model_selection import train_test_split\n",
    "from typing import List\n",
    "\n",
    "import boto3\n",
    "import io\n",
    "import matplotlib\n",
    "import matplotlib.pyplot as plt\n",
    "import numpy as np\n",
    "import os\n",
    "import pandas as pd\n",
    "import pickle as pkl\n",
    "import sagemaker\n",
    "import tarfile\n",
    "import xgboost\n",
    "\n",
    "\n",
    "pd.options.mode.chained_assignment = None  # default='warn'\n",
    "plt.rcParams['figure.dpi'] = 180"
   ]
  },
  {
   "cell_type": "code",
   "execution_count": 15,
   "id": "fa714a37-3bef-4333-a8a0-fba5a7b26abe",
   "metadata": {
    "tags": []
   },
   "outputs": [
    {
     "data": {
      "text/plain": [
       "'arn:aws:iam::919141998999:role/service-role/AmazonSageMaker-ExecutionRole-20240124T070919'"
      ]
     },
     "execution_count": 15,
     "metadata": {},
     "output_type": "execute_result"
    }
   ],
   "source": [
    "ROLE = sagemaker.get_execution_role()\n",
    "ROLE"
   ]
  },
  {
   "cell_type": "code",
   "execution_count": 16,
   "id": "324ef578-691b-4a11-b160-24958fcaf587",
   "metadata": {
    "tags": []
   },
   "outputs": [],
   "source": [
    "# Paths for the containers that we will create\n",
    "# S3 Bucket where the data is stored\n",
    "BUCKET_NAME = \"sagemaker-fbx-tbilisimeetup\"  # Put your S3 bucket name here\n",
    "BUCKET = f's3://{BUCKET_NAME}'\n",
    "\n",
    "# Raw data paths\n",
    "RAW_DATA_FOLDER = 'data'\n",
    "# Note if you change the line below, you also need to change it in the cell that creates the prepare_data.py\n",
    "RAW_DATA_FILE = 'data.csv'\n",
    "RAW_DATA_PATH = os.path.join(BUCKET, RAW_DATA_FOLDER, RAW_DATA_FILE)\n",
    "\n",
    "# Path where the processed objects will be stored\n",
    "now = datetime.now() # get current time to ensure uniqueness of the output folders\n",
    "PROCESSED_DATA_FOLDER = 'processed_' + now.strftime(\"%Y-%m-%d_%H%M_%S%f\")\n",
    "PROCESSED_DATA_PATH = os.path.join(BUCKET, PROCESSED_DATA_FOLDER)\n",
    "\n",
    "# Paths for model train, validation, test split\n",
    "TRAIN_DATA_PATH = os.path.join(PROCESSED_DATA_PATH, 'train.csv')\n",
    "TRAIN_DATA_PATH_W_HEADER = os.path.join(PROCESSED_DATA_PATH, 'train_w_header.csv')\n",
    "VALIDATION_DATA_PATH = os.path.join(PROCESSED_DATA_PATH, 'validation.csv')\n",
    "TEST_DATA_PATH = os.path.join(PROCESSED_DATA_PATH, 'test.csv')\n",
    "TEST_DATA_PATH_W_HEADER = os.path.join(PROCESSED_DATA_PATH, 'test_w_header.csv')\n",
    "\n",
    "# Path to model output data\n",
    "MODEL_OUTPUT = os.path.join(BUCKET, 'output')"
   ]
  },
  {
   "cell_type": "code",
   "execution_count": 17,
   "id": "f948189d-e8e0-45ce-84e3-9005aaa950ed",
   "metadata": {
    "tags": []
   },
   "outputs": [],
   "source": [
    "# Job name for preprocessing, you can pick any name\n",
    "PREPROCESSING_JOB_NAME= 'CreditScorePrediction'"
   ]
  },
  {
   "cell_type": "code",
   "execution_count": 18,
   "id": "d3765903-b4c9-4634-8cc7-5121473d5940",
   "metadata": {
    "tags": []
   },
   "outputs": [
    {
     "name": "stdout",
     "output_type": "stream",
     "text": [
      "Overwriting prepare_data.py\n"
     ]
    }
   ],
   "source": [
    "%%writefile prepare_data.py\n",
    "\n",
    "import argparse\n",
    "import logging\n",
    "import os\n",
    "import pandas as pd\n",
    "from datetime import datetime, timedelta\n",
    "from typing import List, Tuple, Union\n",
    "from sklearn.model_selection import train_test_split\n",
    "\n",
    "logger = logging.getLogger()\n",
    "logger.setLevel(logging.INFO)\n",
    "logger.addHandler(logging.StreamHandler())\n",
    "\n",
    "pd.options.mode.chained_assignment = None  # default='warn'\n",
    "\n",
    "\n",
    "# ----- CONSTANTS ----- #\n",
    "# Columns of df\n",
    "# Features to consider for the model\n",
    "FEATURES = ['Age','Annual_Income','Monthly_Inhand_Salary','Num_Bank_Accounts','Outstanding_Debt',\n",
    "            'Credit_Utilization_Ratio','Total_EMI_per_month','Amount_invested_monthly',\n",
    "            'Monthly_Balance','Credit_Score']\n",
    "# Filname of the raw data file\n",
    "RAW_DATA_FILE = 'data.csv'\n",
    "            \n",
    "def get_train_test_split(df: pd.DataFrame, n_test_data: float) -> Tuple[pd.DataFrame, pd.DataFrame]:\n",
    "    \"\"\"Splits the input data frame into a training and test set.\n",
    "\n",
    "    Args:\n",
    "        df: Raw input data.\n",
    "        n_test_data: Amount of test data, in decimal values, i.e. for 20% it should be 0.2\n",
    "\n",
    "    Returns:\n",
    "        Tuple[pd.DataFrame]: Raw train and test data splits.\n",
    "    \"\"\"\n",
    "\n",
    "    df_train, df_test = train_test_split(df, test_size=n_test_data, random_state=42)\n",
    "\n",
    "    logger.info(f\"Train, Test and Validation data sets preparation\")\n",
    "    \n",
    "    return df_train, df_test\n",
    "\n",
    "def wrap_transform_data(df: pd.DataFrame) -> pd.DataFrame:\n",
    "    \"\"\"Wrapper for transforming the data for the model\n",
    "    \n",
    "    Processing is applied in the following steps:\n",
    "        moves the last (target) column to the first place\n",
    "        \n",
    "    Args:\n",
    "        df: Input dataframe.\n",
    "    \n",
    "    Returns:\n",
    "        pd.DataFrame: Transformed dataframe.\n",
    "    \"\"\"\n",
    "    columns = df.columns.tolist()\n",
    "    columns = [columns[-1]] + columns[:-1]\n",
    "    df = df[columns]\n",
    "    return df\n",
    "\n",
    "if __name__ == '__main__':\n",
    "    logger.info(f'Preprocessing job started.')\n",
    "    # Parse the SDK arguments that are passed when creating the SKlearn container\n",
    "    parser = argparse.ArgumentParser()\n",
    "    parser.add_argument(\"--n_test_data\", type=int, default=10)\n",
    "    parser.add_argument(\"--n_val_data\", type=int, default=10)\n",
    "    args, _ = parser.parse_known_args()\n",
    "\n",
    "    logger.info(f\"Received arguments {args}.\")\n",
    "\n",
    "    # Read in data locally in the container\n",
    "    input_data_path = os.path.join(\"/opt/ml/processing/input\", RAW_DATA_FILE)\n",
    "    logger.info(f\"Reading input data from {input_data_path}\")\n",
    "    # Read raw input data\n",
    "    df = pd.read_csv(input_data_path)\n",
    "    logger.info(f\"Shape of data is: {df.shape}\")\n",
    "\n",
    "    # ---- Preprocess the data set ----\n",
    "    logger.info(\"Split data into training+validation and test set.\")\n",
    "    df_train_valid, df_test = get_train_test_split(df=df, n_test_data=args.n_test_data)\n",
    "\n",
    "    logger.info(\"Split training+validation into training and validation set.\")\n",
    "    df_train, df_val = get_train_test_split(df=df_train_valid, n_test_data=args.n_val_data) \n",
    "\n",
    "    logger.info(\"Transforming training data.\")\n",
    "    train = wrap_transform_data(\n",
    "        df=df_train\n",
    "    )\n",
    "    \n",
    "    logger.info(\"Transforming validation data.\")\n",
    "    val = wrap_transform_data(\n",
    "        df=df_val\n",
    "    )\n",
    "\n",
    "    logger.info(\"Transforming test data.\")\n",
    "    test = wrap_transform_data(\n",
    "        df=df_test\n",
    "    )\n",
    "    \n",
    "    # Create local output directories. These directories live on the container that is spun up.\n",
    "    try:\n",
    "        os.makedirs(\"/opt/ml/processing/train\")\n",
    "        os.makedirs(\"/opt/ml/processing/validation\")\n",
    "        os.makedirs(\"/opt/ml/processing/test\")\n",
    "        print(\"Successfully created directories\")\n",
    "    except Exception as e:\n",
    "        # if the Processing call already creates these directories (or directory otherwise cannot be created)\n",
    "        logger.debug(e)\n",
    "        logger.debug(\"Could Not Make Directories.\")\n",
    "        pass\n",
    "\n",
    "    # Save data locally on the container that is spun up.\n",
    "    try:\n",
    "        pd.DataFrame(train).to_csv(\"/opt/ml/processing/train/train.csv\", header=False, index=False)\n",
    "        pd.DataFrame(train).to_csv(\"/opt/ml/processing/train/train_w_header.csv\", header=True, index=False)\n",
    "        pd.DataFrame(val).to_csv(\"/opt/ml/processing/validation/val.csv\", header=False, index=False)\n",
    "        pd.DataFrame(val).to_csv(\"/opt/ml/processing/validation/val_w_header.csv\", header=True, index=False)\n",
    "        pd.DataFrame(test).to_csv(\"/opt/ml/processing/test/test.csv\", header=False, index=False)\n",
    "        pd.DataFrame(test).to_csv(\"/opt/ml/processing/test/test_w_header.csv\", header=True, index=False)\n",
    "        logger.info(\"Files Successfully Written Locally\")\n",
    "    except Exception as e:\n",
    "        logger.debug(\"Could Not Write the Files\")\n",
    "        logger.debug(e)\n",
    "        pass\n",
    "\n",
    "    logger.info(\"Finished running processing job\")"
   ]
  },
  {
   "cell_type": "code",
   "execution_count": 19,
   "id": "f5491498-52f6-477a-8785-319065b84a5e",
   "metadata": {
    "tags": []
   },
   "outputs": [
    {
     "name": "stderr",
     "output_type": "stream",
     "text": [
      "INFO:sagemaker.image_uris:Defaulting to only available Python version: py3\n",
      "INFO:sagemaker:Creating processing-job with name CreditScorePrediction-2024-01-24-12-02-47-518\n"
     ]
    },
    {
     "name": "stdout",
     "output_type": "stream",
     "text": [
      ".............................\u001b[34m/miniconda3/lib/python3.7/site-packages/sklearn/externals/joblib/externals/cloudpickle/cloudpickle.py:47: DeprecationWarning: the imp module is deprecated in favour of importlib; see the module's documentation for alternative uses\n",
      "  import imp\u001b[0m\n",
      "\u001b[34m/miniconda3/lib/python3.7/site-packages/sklearn/utils/validation.py:37: DeprecationWarning: distutils Version classes are deprecated. Use packaging.version instead.\n",
      "  LARGE_SPARSE_SUPPORTED = LooseVersion(scipy_version) >= '0.14.0'\u001b[0m\n",
      "\u001b[34mPreprocessing job started.\u001b[0m\n",
      "\u001b[34mReceived arguments Namespace(n_test_data=15, n_val_data=15).\u001b[0m\n",
      "\u001b[34mReading input data from /opt/ml/processing/input/data.csv\u001b[0m\n",
      "\u001b[34mShape of data is: (53049, 10)\u001b[0m\n",
      "\u001b[34mSplit data into training+validation and test set.\u001b[0m\n",
      "\u001b[34mTrain, Test and Validation data sets preparation\u001b[0m\n",
      "\u001b[34mSplit training+validation into training and validation set.\u001b[0m\n",
      "\u001b[34mTrain, Test and Validation data sets preparation\u001b[0m\n",
      "\u001b[34mTransforming training data.\u001b[0m\n",
      "\u001b[34mTransforming validation data.\u001b[0m\n",
      "\u001b[34mTransforming test data.\u001b[0m\n",
      "\u001b[34mFiles Successfully Written Locally\u001b[0m\n",
      "\u001b[34mFinished running processing job\u001b[0m\n",
      "\n",
      "CPU times: user 1.07 s, sys: 51 ms, total: 1.12 s\n",
      "Wall time: 5min 23s\n"
     ]
    }
   ],
   "source": [
    "%%time\n",
    "\n",
    "base_job_name = PREPROCESSING_JOB_NAME\n",
    "sklearn_processor = SKLearnProcessor(\n",
    "    base_job_name=base_job_name,\n",
    "    framework_version=\"0.20.0\",\n",
    "    role=ROLE,\n",
    "    instance_type=\"ml.m5.xlarge\",\n",
    "    instance_count=1\n",
    ")\n",
    "\n",
    "sklearn_processor.run(\n",
    "    code=\"prepare_data.py\",\n",
    "    inputs=[\n",
    "        ProcessingInput(\n",
    "            source=RAW_DATA_PATH,\n",
    "            destination=\"/opt/ml/processing/input\"\n",
    "        )\n",
    "    ],\n",
    "    outputs=[\n",
    "        ProcessingOutput(\n",
    "            destination=PROCESSED_DATA_PATH,\n",
    "            source=\"/opt/ml/processing/train\"\n",
    "        ),\n",
    "        ProcessingOutput(\n",
    "            destination=PROCESSED_DATA_PATH,\n",
    "            source=\"/opt/ml/processing/validation\"\n",
    "        ),\n",
    "        ProcessingOutput(\n",
    "            destination=PROCESSED_DATA_PATH,\n",
    "            source=\"/opt/ml/processing/test\"\n",
    "        ),\n",
    "    ],\n",
    "    arguments=[\n",
    "        \"--n_test_data\", \"15\",\n",
    "        \"--n_val_data\", \"15\"\n",
    "    ],\n",
    ")\n",
    "\n",
    "preprocessing_job_description = sklearn_processor.jobs[-1].describe()"
   ]
  },
  {
   "cell_type": "code",
   "execution_count": null,
   "id": "67e3b754-6aa7-493b-a102-23a8ba20d521",
   "metadata": {
    "tags": []
   },
   "outputs": [],
   "source": [
    "##Training Step"
   ]
  },
  {
   "cell_type": "code",
   "execution_count": 20,
   "id": "2c3c3c6b-ed3f-4b75-a681-effb88335abc",
   "metadata": {
    "tags": []
   },
   "outputs": [
    {
     "name": "stderr",
     "output_type": "stream",
     "text": [
      "INFO:sagemaker.image_uris:Defaulting to only supported image scope: cpu.\n"
     ]
    },
    {
     "name": "stdout",
     "output_type": "stream",
     "text": [
      "Using SageMaker container: 683313688378.dkr.ecr.us-east-1.amazonaws.com/sagemaker-xgboost:1.0-1-cpu-py3 in region us-east-1\n"
     ]
    }
   ],
   "source": [
    "region_name = boto3.Session().region_name\n",
    "container = sagemaker.image_uris.retrieve(\n",
    "    framework=\"xgboost\",\n",
    "    region=region_name,\n",
    "    version=\"1.0-1\",\n",
    "    py_version=\"py3\"\n",
    ")\n",
    "\n",
    "print(f'Using SageMaker container: {container} in region {region_name}')"
   ]
  },
  {
   "cell_type": "code",
   "execution_count": 21,
   "id": "6824c786-595e-43ca-8526-65d374511db1",
   "metadata": {
    "tags": []
   },
   "outputs": [],
   "source": [
    "session = sagemaker.Session()\n",
    "xgboost_model = sagemaker.estimator.Estimator(\n",
    "    container,\n",
    "    role=ROLE, \n",
    "    instance_count=1, \n",
    "    instance_type='ml.c4.4xlarge',\n",
    "    output_path=MODEL_OUTPUT,\n",
    "    sagemaker_session=session,\n",
    "    rules=[Rule.sagemaker(rule_configs.create_xgboost_report())]\n",
    ")\n",
    "\n",
    "# set the model's hyperparameters\n",
    "xgboost_model.set_hyperparameters(\n",
    "    objective='binary:logistic',\n",
    "    num_round=50,\n",
    "    max_depth=5,\n",
    "    eta=0.2,\n",
    "    gamma=4,\n",
    "    min_child_weight=6,\n",
    "    subsample=0.7,\n",
    "    silent=0,\n",
    ")"
   ]
  },
  {
   "cell_type": "code",
   "execution_count": 22,
   "id": "84bdca2b-de29-4bd5-839c-813c50034146",
   "metadata": {
    "tags": []
   },
   "outputs": [],
   "source": [
    "train_data = sagemaker.inputs.TrainingInput(\n",
    "            s3_data=f'{PROCESSED_DATA_PATH}/train.csv',\n",
    "            distribution='FullyReplicated',\n",
    "            content_type=\"text/csv\",\n",
    "            s3_data_type='S3Prefix')\n",
    "\n",
    "validation_data = sagemaker.inputs.TrainingInput(\n",
    "                s3_data=f'{PROCESSED_DATA_PATH}/val.csv',\n",
    "                distribution='FullyReplicated',\n",
    "                content_type=\"text/csv\",\n",
    "                s3_data_type='S3Prefix')\n",
    "\n",
    "data_channels = {'train': train_data, 'validation': validation_data}"
   ]
  },
  {
   "cell_type": "code",
   "execution_count": 23,
   "id": "c650e2b0-f0d4-479e-9f3c-a7ba662cb957",
   "metadata": {
    "tags": []
   },
   "outputs": [
    {
     "name": "stderr",
     "output_type": "stream",
     "text": [
      "INFO:sagemaker.image_uris:Defaulting to the only supported framework/algorithm version: latest.\n",
      "INFO:sagemaker.image_uris:Ignoring unnecessary instance type: None.\n",
      "INFO:sagemaker:Creating training-job with name: sagemaker-xgboost-2024-01-24-12-08-20-804\n"
     ]
    },
    {
     "name": "stdout",
     "output_type": "stream",
     "text": [
      "2024-01-24 12:08:20 Starting - Starting the training job...\n",
      "2024-01-24 12:08:44 Starting - Preparing the instances for trainingCreateXgboostReport: InProgress\n",
      "......\n",
      "2024-01-24 12:09:49 Downloading - Downloading input data......\n",
      "2024-01-24 12:10:44 Training - Training image download completed. Training in progress...\u001b[34m[2024-01-24 12:10:56.543 ip-10-0-91-117.ec2.internal:7 INFO utils.py:27] RULE_JOB_STOP_SIGNAL_FILENAME: None\u001b[0m\n",
      "\u001b[34mINFO:sagemaker-containers:Imported framework sagemaker_xgboost_container.training\u001b[0m\n",
      "\u001b[34mINFO:sagemaker-containers:Failed to parse hyperparameter objective value binary:logistic to Json.\u001b[0m\n",
      "\u001b[34mReturning the value itself\u001b[0m\n",
      "\u001b[34mINFO:sagemaker-containers:No GPUs detected (normal if no gpus installed)\u001b[0m\n",
      "\u001b[34mINFO:sagemaker_xgboost_container.training:Running XGBoost Sagemaker in algorithm mode\u001b[0m\n",
      "\u001b[34mINFO:root:Determined delimiter of CSV input is ','\u001b[0m\n",
      "\u001b[34mINFO:root:Determined delimiter of CSV input is ','\u001b[0m\n",
      "\u001b[34mINFO:root:Determined delimiter of CSV input is ','\u001b[0m\n",
      "\u001b[34mINFO:root:Determined delimiter of CSV input is ','\u001b[0m\n",
      "\u001b[34mINFO:root:Single node training.\u001b[0m\n",
      "\u001b[34m[12:10:56] 53019x9 matrix with 477171 entries loaded from /opt/ml/input/data/train?format=csv&label_column=0&delimiter=,\u001b[0m\n",
      "\u001b[34m[12:10:56] 15x9 matrix with 135 entries loaded from /opt/ml/input/data/validation?format=csv&label_column=0&delimiter=,\u001b[0m\n",
      "\u001b[34m[2024-01-24 12:10:56.659 ip-10-0-91-117.ec2.internal:7 INFO json_config.py:91] Creating hook from json_config at /opt/ml/input/config/debughookconfig.json.\u001b[0m\n",
      "\u001b[34m[2024-01-24 12:10:56.659 ip-10-0-91-117.ec2.internal:7 INFO hook.py:201] tensorboard_dir has not been set for the hook. SMDebug will not be exporting tensorboard summaries.\u001b[0m\n",
      "\u001b[34m[2024-01-24 12:10:56.659 ip-10-0-91-117.ec2.internal:7 INFO profiler_config_parser.py:102] User has disabled profiler.\u001b[0m\n",
      "\u001b[34m[2024-01-24 12:10:56.660 ip-10-0-91-117.ec2.internal:7 INFO hook.py:255] Saving to /opt/ml/output/tensors\u001b[0m\n",
      "\u001b[34m[2024-01-24 12:10:56.660 ip-10-0-91-117.ec2.internal:7 INFO state_store.py:77] The checkpoint config file /opt/ml/input/config/checkpointconfig.json does not exist.\u001b[0m\n",
      "\u001b[34mINFO:root:Debug hook created from config\u001b[0m\n",
      "\u001b[34mINFO:root:Train matrix has 53019 rows\u001b[0m\n",
      "\u001b[34mINFO:root:Validation matrix has 15 rows\u001b[0m\n",
      "\u001b[34m[12:10:56] WARNING: /workspace/src/learner.cc:328: \u001b[0m\n",
      "\u001b[34mParameters: { num_round, silent } might not be used.\n",
      "  This may not be accurate due to some parameters are only used in language bindings but\n",
      "  passed down to XGBoost core.  Or some parameters are not used but slip through this\n",
      "  verification. Please open an issue if you find above cases.\u001b[0m\n",
      "\u001b[34m[0]#011train-error:0.15926#011validation-error:0.13333\u001b[0m\n",
      "\u001b[34m[2024-01-24 12:10:56.685 ip-10-0-91-117.ec2.internal:7 INFO hook.py:423] Monitoring the collections: feature_importance, metrics, hyperparameters, predictions, labels\u001b[0m\n",
      "\u001b[34m[2024-01-24 12:10:56.688 ip-10-0-91-117.ec2.internal:7 INFO hook.py:486] Hook is writing from the hook with pid: 7\u001b[0m\n",
      "\u001b[34m[1]#011train-error:0.15824#011validation-error:0.13333\u001b[0m\n",
      "\u001b[34m[2]#011train-error:0.15628#011validation-error:0.13333\u001b[0m\n",
      "\u001b[34m[3]#011train-error:0.15570#011validation-error:0.13333\u001b[0m\n",
      "\u001b[34m[4]#011train-error:0.15500#011validation-error:0.13333\u001b[0m\n",
      "\u001b[34m[5]#011train-error:0.15508#011validation-error:0.13333\u001b[0m\n",
      "\u001b[34m[6]#011train-error:0.15570#011validation-error:0.13333\u001b[0m\n",
      "\u001b[34m[7]#011train-error:0.15570#011validation-error:0.13333\u001b[0m\n",
      "\u001b[34m[8]#011train-error:0.15581#011validation-error:0.13333\u001b[0m\n",
      "\u001b[34m[9]#011train-error:0.15711#011validation-error:0.13333\u001b[0m\n",
      "\u001b[34m[10]#011train-error:0.15741#011validation-error:0.13333\u001b[0m\n",
      "\u001b[34m[11]#011train-error:0.15689#011validation-error:0.13333\u001b[0m\n",
      "\u001b[34m[12]#011train-error:0.15640#011validation-error:0.13333\u001b[0m\n",
      "\u001b[34m[13]#011train-error:0.15493#011validation-error:0.13333\u001b[0m\n",
      "\u001b[34m[14]#011train-error:0.15525#011validation-error:0.13333\u001b[0m\n",
      "\u001b[34m[15]#011train-error:0.15536#011validation-error:0.13333\u001b[0m\n",
      "\u001b[34m[16]#011train-error:0.15500#011validation-error:0.13333\u001b[0m\n",
      "\u001b[34m[17]#011train-error:0.15487#011validation-error:0.13333\u001b[0m\n",
      "\u001b[34m[18]#011train-error:0.15489#011validation-error:0.13333\u001b[0m\n",
      "\u001b[34m[19]#011train-error:0.15483#011validation-error:0.13333\u001b[0m\n",
      "\u001b[34m[20]#011train-error:0.15476#011validation-error:0.13333\u001b[0m\n",
      "\u001b[34m[21]#011train-error:0.15436#011validation-error:0.13333\u001b[0m\n",
      "\u001b[34m[22]#011train-error:0.15219#011validation-error:0.13333\u001b[0m\n",
      "\u001b[34m[23]#011train-error:0.15221#011validation-error:0.13333\u001b[0m\n",
      "\u001b[34m[24]#011train-error:0.15161#011validation-error:0.13333\u001b[0m\n",
      "\u001b[34m[25]#011train-error:0.15106#011validation-error:0.13333\u001b[0m\n",
      "\u001b[34m[26]#011train-error:0.15046#011validation-error:0.13333\u001b[0m\n",
      "\u001b[34m[27]#011train-error:0.14993#011validation-error:0.13333\u001b[0m\n",
      "\u001b[34m[28]#011train-error:0.14981#011validation-error:0.13333\u001b[0m\n",
      "\u001b[34m[29]#011train-error:0.14974#011validation-error:0.13333\u001b[0m\n",
      "\u001b[34m[30]#011train-error:0.14974#011validation-error:0.13333\u001b[0m\n",
      "\u001b[34m[31]#011train-error:0.14985#011validation-error:0.13333\u001b[0m\n",
      "\u001b[34m[32]#011train-error:0.14957#011validation-error:0.13333\u001b[0m\n",
      "\u001b[34m[33]#011train-error:0.14874#011validation-error:0.13333\u001b[0m\n",
      "\u001b[34m[34]#011train-error:0.14863#011validation-error:0.13333\u001b[0m\n",
      "\u001b[34m[35]#011train-error:0.14838#011validation-error:0.13333\u001b[0m\n",
      "\u001b[34m[36]#011train-error:0.14783#011validation-error:0.13333\u001b[0m\n",
      "\u001b[34m[37]#011train-error:0.14787#011validation-error:0.13333\u001b[0m\n",
      "\u001b[34m[38]#011train-error:0.14700#011validation-error:0.13333\u001b[0m\n",
      "\u001b[34m[39]#011train-error:0.14678#011validation-error:0.13333\u001b[0m\n",
      "\u001b[34m[40]#011train-error:0.14568#011validation-error:0.13333\u001b[0m\n",
      "\u001b[34m[41]#011train-error:0.14563#011validation-error:0.06667\u001b[0m\n",
      "\u001b[34m[42]#011train-error:0.14527#011validation-error:0.06667\u001b[0m\n",
      "\u001b[34m[43]#011train-error:0.14493#011validation-error:0.06667\u001b[0m\n",
      "\u001b[34m[44]#011train-error:0.14506#011validation-error:0.06667\u001b[0m\n",
      "\u001b[34m[45]#011train-error:0.14416#011validation-error:0.06667\u001b[0m\n",
      "\u001b[34m[46]#011train-error:0.14393#011validation-error:0.06667\u001b[0m\n",
      "\u001b[34m[47]#011train-error:0.14370#011validation-error:0.06667\u001b[0m\n",
      "\u001b[34m[48]#011train-error:0.14338#011validation-error:0.06667\u001b[0m\n",
      "\u001b[34m[49]#011train-error:0.14278#011validation-error:0.06667\u001b[0m\n",
      "\n",
      "2024-01-24 12:11:16 Uploading - Uploading generated training model\n",
      "2024-01-24 12:11:16 Completed - Training job completed\n",
      "Training seconds: 87\n",
      "Billable seconds: 87\n",
      "CPU times: user 585 ms, sys: 22.4 ms, total: 607 ms\n",
      "Wall time: 3min 12s\n"
     ]
    }
   ],
   "source": [
    "%%time\n",
    "\n",
    "xgboost_model.fit(inputs=data_channels, logs='All', wait=True)"
   ]
  },
  {
   "cell_type": "code",
   "execution_count": 24,
   "id": "fcf95beb-bd72-489b-926b-cb2dfb3fb58e",
   "metadata": {},
   "outputs": [],
   "source": [
    "xgboost_report_path = xgboost_model.output_path + '/' + xgboost_model.latest_training_job.job_name + \"/rule-output\"\n",
    "\n",
    "! aws s3 ls {xgboost_report_path} --recursive\n",
    "! aws s3 cp {xgboost_report_path} ./ --recursive"
   ]
  },
  {
   "cell_type": "code",
   "execution_count": 26,
   "id": "075c416c-3e7f-4d5a-9433-0fe8658d01a1",
   "metadata": {
    "tags": []
   },
   "outputs": [],
   "source": [
    "##Evaluation"
   ]
  },
  {
   "cell_type": "code",
   "execution_count": 27,
   "id": "64a37f4d-b634-46a6-a3f2-811608eb8e95",
   "metadata": {
    "tags": []
   },
   "outputs": [
    {
     "name": "stdout",
     "output_type": "stream",
     "text": [
      "download: s3://sagemaker-fbx-tbilisimeetup/output/sagemaker-xgboost-2024-01-24-12-08-20-804/output/model.tar.gz to ./model.tar.gz\n",
      "[12:18:08] WARNING: ../src/learner.cc:438: \n",
      "  If you are loading a serialized model (like pickle in Python, RDS in R) generated by\n",
      "  older XGBoost, please export the model by calling `Booster.save_model` from that version\n",
      "  first, then load it back in current version. See:\n",
      "\n",
      "    https://xgboost.readthedocs.io/en/latest/tutorials/saving_model.html\n",
      "\n",
      "  for more details about differences between saving model and serializing.\n",
      "\n"
     ]
    }
   ],
   "source": [
    "model_path = f'{xgboost_model.output_path}/{xgboost_model.latest_training_job.job_name}/output/model.tar.gz'\n",
    "\n",
    "!aws s3 cp $model_path \"model.tar.gz\"\n",
    "\n",
    "#opens the downloaded model artifact and loads it as 'model' variable\n",
    "tar = tarfile.open('model.tar.gz')\n",
    "tar.extractall()\n",
    "tar.close()\n",
    "model = pkl.load(open('xgboost-model', 'rb'))"
   ]
  },
  {
   "cell_type": "code",
   "execution_count": 28,
   "id": "eb7fa006-66dc-475e-a6e9-ef05da5b3c00",
   "metadata": {
    "tags": []
   },
   "outputs": [
    {
     "name": "stderr",
     "output_type": "stream",
     "text": [
      "/home/ec2-user/anaconda3/envs/tensorflow2_p310/lib/python3.10/site-packages/fsspec/registry.py:272: UserWarning: Your installed version of s3fs is very old and known to cause\n",
      "severe performance issues, see also https://github.com/dask/dask/issues/10276\n",
      "\n",
      "To fix, you should specify a lower version bound on s3fs, or\n",
      "update the current installation.\n",
      "\n",
      "  warnings.warn(s3_msg)\n",
      "INFO:botocore.credentials:Found credentials from IAM Role: BaseNotebookInstanceEc2InstanceRole\n"
     ]
    },
    {
     "data": {
      "text/plain": [
       "{'f0': 'Age',\n",
       " 'f1': 'Annual_Income',\n",
       " 'f2': 'Monthly_Inhand_Salary',\n",
       " 'f3': 'Num_Bank_Accounts',\n",
       " 'f4': 'Outstanding_Debt',\n",
       " 'f5': 'Credit_Utilization_Ratio',\n",
       " 'f6': 'Total_EMI_per_month',\n",
       " 'f7': 'Amount_invested_monthly',\n",
       " 'f8': 'Monthly_Balance'}"
      ]
     },
     "execution_count": 28,
     "metadata": {},
     "output_type": "execute_result"
    }
   ],
   "source": [
    "df = pd.read_csv(TRAIN_DATA_PATH_W_HEADER)\n",
    "map_names = dict(zip(model.get_fscore().keys(), list(df.columns)[1:]))\n",
    "map_names"
   ]
  },
  {
   "cell_type": "code",
   "execution_count": 29,
   "id": "b8f0dd22-ad8d-4968-9cf4-11a7a0b990a5",
   "metadata": {
    "tags": []
   },
   "outputs": [
    {
     "data": {
      "image/png": "[encoded data removed]",
      "text/plain": [
       "<Figure size 1260x900 with 1 Axes>"
      ]
     },
     "metadata": {},
     "output_type": "display_data"
    }
   ],
   "source": [
    "model.feature_names = list(map_names.values())\n",
    "# plot feature importance\n",
    "fig, ax = plt.subplots(figsize=(7, 5))\n",
    "p = xgboost.plot_importance(model, importance_type='gain', max_num_features=30, height=0.8, ax=ax, show_values=False, color='#be141e')\n",
    "plt.title('Feature Importance')\n",
    "plt.show()"
   ]
  },
  {
   "cell_type": "code",
   "execution_count": 30,
   "id": "884133f1-46cd-4b88-9ece-6b7d3a3ebef8",
   "metadata": {
    "tags": []
   },
   "outputs": [],
   "source": [
    "##Invoking the endpoint"
   ]
  },
  {
   "cell_type": "code",
   "execution_count": 31,
   "id": "6129daae-21a5-4aab-8145-84175f62ff4b",
   "metadata": {
    "tags": []
   },
   "outputs": [
    {
     "name": "stderr",
     "output_type": "stream",
     "text": [
      "INFO:sagemaker:Creating model with name: sagemaker-xgboost-2024-01-24-12-19-06-426\n",
      "INFO:sagemaker:Creating endpoint-config with name sagemaker-xgboost-2024-01-24-12-19-06-426\n",
      "INFO:sagemaker:Creating endpoint with name sagemaker-xgboost-2024-01-24-12-19-06-426\n"
     ]
    },
    {
     "name": "stdout",
     "output_type": "stream",
     "text": [
      "--------!"
     ]
    }
   ],
   "source": [
    "model_endpoint = xgboost_model.deploy(initial_instance_count=1, instance_type='ml.t2.medium')"
   ]
  },
  {
   "cell_type": "code",
   "execution_count": 32,
   "id": "8dda2326-b2dd-4d95-90e9-5cae26952758",
   "metadata": {
    "tags": []
   },
   "outputs": [],
   "source": [
    "def convert_df_to_csv_object(df: pd.DataFrame) -> str:\n",
    "    \"\"\"Converts the dataframe object `df` to a payload that can be passed to the model endpoint.\n",
    "    Args:\n",
    "        df: Dataframe that is converted to a csv-file for the SageMaker model's endpoint.\n",
    "    Returns:\n",
    "        payload_as_csv: csv-file as payload.\n",
    "    \"\"\"\n",
    "    assert isinstance(df, pd.DataFrame)\n",
    "    csv_file = io.StringIO()\n",
    "    # by default sagemaker expects comma separated\n",
    "    df.to_csv(csv_file, sep=\",\", header=False, index=False)\n",
    "    payload_as_csv = csv_file.getvalue()\n",
    "    return payload_as_csv"
   ]
  },
  {
   "cell_type": "code",
   "execution_count": 33,
   "id": "6d37c20c-5204-45b1-b84a-2ff30d1bee4f",
   "metadata": {
    "tags": []
   },
   "outputs": [],
   "source": [
    "def batch_prediction(payload: str, endpoint: sagemaker.predictor.Predictor) -> List[float]:\n",
    "    \"\"\"Function to pass a single payload to the model endpoint and return a prediction.\n",
    "    Args:\n",
    "        payload: SageMaker model friendly payload (feature vector).\n",
    "        endpoint: SageMaker model endpoint.\n",
    "    Returns:\n",
    "        response: List of predictions from the model.\n",
    "    \"\"\"\n",
    "    # invoke the endpoint to get a prediction\n",
    "    response = endpoint.predict(payload, initial_args={'ContentType': \"text/csv\"})\n",
    "    # process predictions\n",
    "    response = response.decode(\"utf-8\")\n",
    "    response = [float(i) for i in response.split(',')]\n",
    "    # convert to array\n",
    "    response = np.asarray(response)\n",
    "    return response"
   ]
  },
  {
   "cell_type": "code",
   "execution_count": 34,
   "id": "948232c0-f8ef-462f-892b-673bf900ce0c",
   "metadata": {
    "tags": []
   },
   "outputs": [],
   "source": [
    "#Evaluate model (Example how the endpoint can be used)"
   ]
  },
  {
   "cell_type": "code",
   "execution_count": 35,
   "id": "6a04b16b-fafa-4952-9a9a-63702f1d7674",
   "metadata": {
    "tags": []
   },
   "outputs": [
    {
     "data": {
      "image/png": "[encoded data removed]",
      "text/plain": [
       "<Figure size 1152x864 with 1 Axes>"
      ]
     },
     "metadata": {},
     "output_type": "display_data"
    }
   ],
   "source": [
    "THRESHOLD = 0.5\n",
    "\n",
    "train_data = pd.read_csv(TRAIN_DATA_PATH_W_HEADER)\n",
    "train_features = train_data.iloc[:, 1:]\n",
    "\n",
    "prediction = batch_prediction(\n",
    "    payload=convert_df_to_csv_object(df=train_features),\n",
    "    endpoint=model_endpoint\n",
    ")\n",
    "prediction_binary = np.where(prediction > THRESHOLD, 1, 0)\n",
    "\n",
    "disp = ConfusionMatrixDisplay.from_predictions(\n",
    "    y_true=train_data.iloc[:, 0].values,\n",
    "    y_pred=prediction_binary,\n",
    "    colorbar=False,\n",
    "    cmap='Reds'\n",
    ")\n",
    "plt.show()"
   ]
  },
  {
   "cell_type": "code",
   "execution_count": 36,
   "id": "fc9e89c5-7a5c-492a-b9e6-48adbf9686b9",
   "metadata": {
    "tags": []
   },
   "outputs": [
    {
     "name": "stdout",
     "output_type": "stream",
     "text": [
      "AUC is 0.5866\n",
      "Accuracy is 0.8572\n",
      "Recall is 0.1865\n",
      "Precision is 0.7299\n"
     ]
    }
   ],
   "source": [
    "auc = round(roc_auc_score(train_data.iloc[:, 0].values, prediction_binary), 4)\n",
    "accuracy = round(accuracy_score(train_data.iloc[:, 0].values, prediction_binary), 4)\n",
    "recall = round(recall_score(train_data.iloc[:, 0].values, prediction_binary), 4)\n",
    "precision = round(precision_score(train_data.iloc[:, 0].values, prediction_binary), 4)\n",
    "print(f'AUC is {auc}')\n",
    "print(f'Accuracy is {accuracy}')\n",
    "print(f'Recall is {recall}')\n",
    "print(f'Precision is {precision}')"
   ]
  },
  {
   "cell_type": "code",
   "execution_count": 37,
   "id": "33669a09-0677-4d66-8a10-ad712d381ceb",
   "metadata": {
    "tags": []
   },
   "outputs": [
    {
     "data": {
      "image/png": "[encoded data removed]",
      "text/plain": [
       "<Figure size 1152x864 with 1 Axes>"
      ]
     },
     "metadata": {},
     "output_type": "display_data"
    }
   ],
   "source": [
    "test_data = pd.read_csv(TEST_DATA_PATH_W_HEADER)\n",
    "test_features = test_data.iloc[:, 1:]\n",
    "\n",
    "prediction = batch_prediction(\n",
    "    payload=convert_df_to_csv_object(df=test_features),\n",
    "    endpoint=model_endpoint\n",
    ")\n",
    "prediction_binary = np.where(prediction > THRESHOLD, 1, 0)\n",
    "\n",
    "disp = ConfusionMatrixDisplay.from_predictions(\n",
    "    y_true=test_data.iloc[:, 0].values,\n",
    "    y_pred=prediction_binary,\n",
    "    colorbar=False,\n",
    "    cmap='Reds'\n",
    ")\n",
    "plt.show()"
   ]
  },
  {
   "cell_type": "code",
   "execution_count": 38,
   "id": "f4f6d11d-4549-4061-97d7-6afa50ed0b81",
   "metadata": {
    "tags": []
   },
   "outputs": [
    {
     "name": "stdout",
     "output_type": "stream",
     "text": [
      "AUC is 0.75\n",
      "Accuracy is 0.9333\n",
      "Recall is 0.5\n",
      "Precision is 1.0\n"
     ]
    }
   ],
   "source": [
    "auc = round(roc_auc_score(test_data.iloc[:, 0].values, prediction_binary), 4)\n",
    "accuracy = round(accuracy_score(test_data.iloc[:, 0].values, prediction_binary), 4)\n",
    "recall = round(recall_score(test_data.iloc[:, 0].values, prediction_binary), 4)\n",
    "precision = round(precision_score(test_data.iloc[:, 0].values, prediction_binary), 4)\n",
    "print(f'AUC is {auc}')\n",
    "print(f'Accuracy is {accuracy}')\n",
    "print(f'Recall is {recall}')\n",
    "print(f'Precision is {precision}')"
   ]
  },
  {
   "cell_type": "code",
   "execution_count": 39,
   "id": "8a294c85-23f1-4440-aca7-4637e57de8c9",
   "metadata": {
    "tags": []
   },
   "outputs": [
    {
     "name": "stderr",
     "output_type": "stream",
     "text": [
      "INFO:sagemaker:Deleting endpoint configuration with name: sagemaker-xgboost-2024-01-24-12-19-06-426\n",
      "INFO:sagemaker:Deleting endpoint with name: sagemaker-xgboost-2024-01-24-12-19-06-426\n"
     ]
    }
   ],
   "source": [
    "model_endpoint.delete_endpoint()"
   ]
  },
  {
   "cell_type": "code",
   "execution_count": null,
   "id": "f1dfda98-9d89-42aa-9b39-6112deca0874",
   "metadata": {},
   "outputs": [],
   "source": []
  }
 ],
 "metadata": {
  "kernelspec": {
   "display_name": "conda_tensorflow2_p310",
   "language": "python",
   "name": "conda_tensorflow2_p310"
  },
  "language_info": {
   "codemirror_mode": {
    "name": "ipython",
    "version": 3
   },
   "file_extension": ".py",
   "mimetype": "text/x-python",
   "name": "python",
   "nbconvert_exporter": "python",
   "pygments_lexer": "ipython3",
   "version": "3.10.13"
  }
 },
 "nbformat": 4,
 "nbformat_minor": 5
}
