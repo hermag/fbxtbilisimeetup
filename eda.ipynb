{
 "cells": [
  {
   "cell_type": "code",
   "execution_count": 2,
   "id": "97b559d6-cef4-496c-ac29-e34dce8dbf69",
   "metadata": {
    "tags": []
   },
   "outputs": [
    {
     "name": "stdout",
     "output_type": "stream",
     "text": [
      "Requirement already satisfied: umap-learn in /Users/erekle.magradze/anaconda3/lib/python3.11/site-packages (0.5.5)\n",
      "Requirement already satisfied: numpy>=1.17 in /Users/erekle.magradze/anaconda3/lib/python3.11/site-packages (from umap-learn) (1.24.3)\n",
      "Requirement already satisfied: scipy>=1.3.1 in /Users/erekle.magradze/anaconda3/lib/python3.11/site-packages (from umap-learn) (1.11.1)\n",
      "Requirement already satisfied: scikit-learn>=0.22 in /Users/erekle.magradze/anaconda3/lib/python3.11/site-packages (from umap-learn) (1.3.0)\n",
      "Requirement already satisfied: numba>=0.51.2 in /Users/erekle.magradze/anaconda3/lib/python3.11/site-packages (from umap-learn) (0.57.0)\n",
      "Requirement already satisfied: pynndescent>=0.5 in /Users/erekle.magradze/anaconda3/lib/python3.11/site-packages (from umap-learn) (0.5.11)\n",
      "Requirement already satisfied: tqdm in /Users/erekle.magradze/anaconda3/lib/python3.11/site-packages (from umap-learn) (4.65.0)\n",
      "Requirement already satisfied: llvmlite<0.41,>=0.40.0dev0 in /Users/erekle.magradze/anaconda3/lib/python3.11/site-packages (from numba>=0.51.2->umap-learn) (0.40.0)\n",
      "Requirement already satisfied: joblib>=0.11 in /Users/erekle.magradze/anaconda3/lib/python3.11/site-packages (from pynndescent>=0.5->umap-learn) (1.2.0)\n",
      "Requirement already satisfied: threadpoolctl>=2.0.0 in /Users/erekle.magradze/anaconda3/lib/python3.11/site-packages (from scikit-learn>=0.22->umap-learn) (2.2.0)\n"
     ]
    }
   ],
   "source": [
    "!pip install umap-learn"
   ]
  },
  {
   "cell_type": "code",
   "execution_count": 3,
   "id": "3f4fb5c9-f6c6-480f-acfc-0e061cd3a10e",
   "metadata": {
    "tags": []
   },
   "outputs": [
    {
     "name": "stdout",
     "output_type": "stream",
     "text": [
      "Requirement already satisfied: seaborn==0.11.2 in /Users/erekle.magradze/anaconda3/lib/python3.11/site-packages (0.11.2)\n",
      "Requirement already satisfied: numpy>=1.15 in /Users/erekle.magradze/anaconda3/lib/python3.11/site-packages (from seaborn==0.11.2) (1.24.3)\n",
      "Requirement already satisfied: scipy>=1.0 in /Users/erekle.magradze/anaconda3/lib/python3.11/site-packages (from seaborn==0.11.2) (1.11.1)\n",
      "Requirement already satisfied: pandas>=0.23 in /Users/erekle.magradze/anaconda3/lib/python3.11/site-packages (from seaborn==0.11.2) (2.0.3)\n",
      "Requirement already satisfied: matplotlib>=2.2 in /Users/erekle.magradze/anaconda3/lib/python3.11/site-packages (from seaborn==0.11.2) (3.7.2)\n",
      "Requirement already satisfied: contourpy>=1.0.1 in /Users/erekle.magradze/anaconda3/lib/python3.11/site-packages (from matplotlib>=2.2->seaborn==0.11.2) (1.0.5)\n",
      "Requirement already satisfied: cycler>=0.10 in /Users/erekle.magradze/anaconda3/lib/python3.11/site-packages (from matplotlib>=2.2->seaborn==0.11.2) (0.11.0)\n",
      "Requirement already satisfied: fonttools>=4.22.0 in /Users/erekle.magradze/anaconda3/lib/python3.11/site-packages (from matplotlib>=2.2->seaborn==0.11.2) (4.25.0)\n",
      "Requirement already satisfied: kiwisolver>=1.0.1 in /Users/erekle.magradze/anaconda3/lib/python3.11/site-packages (from matplotlib>=2.2->seaborn==0.11.2) (1.4.4)\n",
      "Requirement already satisfied: packaging>=20.0 in /Users/erekle.magradze/anaconda3/lib/python3.11/site-packages (from matplotlib>=2.2->seaborn==0.11.2) (23.1)\n",
      "Requirement already satisfied: pillow>=6.2.0 in /Users/erekle.magradze/anaconda3/lib/python3.11/site-packages (from matplotlib>=2.2->seaborn==0.11.2) (10.0.1)\n",
      "Requirement already satisfied: pyparsing<3.1,>=2.3.1 in /Users/erekle.magradze/anaconda3/lib/python3.11/site-packages (from matplotlib>=2.2->seaborn==0.11.2) (3.0.9)\n",
      "Requirement already satisfied: python-dateutil>=2.7 in /Users/erekle.magradze/anaconda3/lib/python3.11/site-packages (from matplotlib>=2.2->seaborn==0.11.2) (2.8.2)\n",
      "Requirement already satisfied: pytz>=2020.1 in /Users/erekle.magradze/anaconda3/lib/python3.11/site-packages (from pandas>=0.23->seaborn==0.11.2) (2023.3.post1)\n",
      "Requirement already satisfied: tzdata>=2022.1 in /Users/erekle.magradze/anaconda3/lib/python3.11/site-packages (from pandas>=0.23->seaborn==0.11.2) (2023.3)\n",
      "Requirement already satisfied: six>=1.5 in /Users/erekle.magradze/anaconda3/lib/python3.11/site-packages (from python-dateutil>=2.7->matplotlib>=2.2->seaborn==0.11.2) (1.16.0)\n"
     ]
    }
   ],
   "source": [
    "!pip install seaborn==0.11.2"
   ]
  },
  {
   "cell_type": "code",
   "execution_count": 4,
   "id": "4fe02adc-4e42-44a9-953e-191182ad36e0",
   "metadata": {
    "tags": []
   },
   "outputs": [],
   "source": [
    "import pandas as pd\n",
    "from pathlib import Path\n",
    "from sklearn.preprocessing import StandardScaler\n",
    "import numpy as np\n",
    "import matplotlib.pyplot as plt\n",
    "import seaborn as sns\n",
    "import umap\n",
    "import os\n",
    "import warnings\n",
    "warnings.filterwarnings(\"ignore\")"
   ]
  },
  {
   "cell_type": "code",
   "execution_count": 5,
   "id": "27a321df-538e-4450-9b5f-03adf17a8161",
   "metadata": {},
   "outputs": [
    {
     "ename": "NameError",
     "evalue": "name 'RAW_DATA_PATH' is not defined",
     "output_type": "error",
     "traceback": [
      "\u001b[0;31m---------------------------------------------------------------------------\u001b[0m",
      "\u001b[0;31mNameError\u001b[0m                                 Traceback (most recent call last)",
      "Cell \u001b[0;32mIn[5], line 12\u001b[0m\n\u001b[1;32m      8\u001b[0m DATA_FILE \u001b[38;5;241m=\u001b[39m \u001b[38;5;124m'\u001b[39m\u001b[38;5;124mdata.csv\u001b[39m\u001b[38;5;124m'\u001b[39m\n\u001b[1;32m      9\u001b[0m DATA_PATH \u001b[38;5;241m=\u001b[39m os\u001b[38;5;241m.\u001b[39mpath\u001b[38;5;241m.\u001b[39mjoin(BUCKET, DATA_FOLDER, DATA_FILE)\n\u001b[0;32m---> 12\u001b[0m df \u001b[38;5;241m=\u001b[39m pd\u001b[38;5;241m.\u001b[39mread_csv(RAW_DATA_PATH)\n",
      "\u001b[0;31mNameError\u001b[0m: name 'RAW_DATA_PATH' is not defined"
     ]
    }
   ],
   "source": [
    "# Paths for the containers that we will create\n",
    "# S3 Bucket where the data is stored\n",
    "BUCKET_NAME = \"tbilisimeetup\"  # Put your S3 bucket name here\n",
    "BUCKET = f's3://{BUCKET_NAME}'\n",
    "\n",
    "# data paths\n",
    "DATA_FOLDER = 'data'\n",
    "DATA_FILE = 'data.csv'\n",
    "DATA_PATH = os.path.join(BUCKET, DATA_FOLDER, DATA_FILE)\n",
    "\n",
    "\n",
    "df = pd.read_csv(DATA_PATH)"
   ]
  },
  {
   "cell_type": "code",
   "execution_count": null,
   "id": "6d7f1878-c58e-4bff-8541-c719085ecad7",
   "metadata": {},
   "outputs": [],
   "source": []
  }
 ],
 "metadata": {
  "kernelspec": {
   "display_name": "Python 3 (ipykernel)",
   "language": "python",
   "name": "python3"
  },
  "language_info": {
   "codemirror_mode": {
    "name": "ipython",
    "version": 3
   },
   "file_extension": ".py",
   "mimetype": "text/x-python",
   "name": "python",
   "nbconvert_exporter": "python",
   "pygments_lexer": "ipython3",
   "version": "3.11.5"
  }
 },
 "nbformat": 4,
 "nbformat_minor": 5
}
