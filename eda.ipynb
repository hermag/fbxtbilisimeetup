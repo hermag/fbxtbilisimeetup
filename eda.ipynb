{
 "cells": [
  {
   "cell_type": "code",
   "execution_count": 1,
   "id": "97b559d6-cef4-496c-ac29-e34dce8dbf69",
   "metadata": {
    "tags": []
   },
   "outputs": [
    {
     "name": "stdout",
     "output_type": "stream",
     "text": [
      "Collecting umap-learn\n",
      "  Downloading umap-learn-0.5.5.tar.gz (90 kB)\n",
      "\u001b[2K     \u001b[90m━━━━━━━━━━━━━━━━━━━━━━━━━━━━━━━━━━━━━━━━\u001b[0m \u001b[32m90.9/90.9 kB\u001b[0m \u001b[31m6.5 MB/s\u001b[0m eta \u001b[36m0:00:00\u001b[0m\n",
      "\u001b[?25h  Preparing metadata (setup.py) ... \u001b[?25ldone\n",
      "\u001b[?25hRequirement already satisfied: numpy>=1.17 in /home/ec2-user/anaconda3/envs/tensorflow2_p310/lib/python3.10/site-packages (from umap-learn) (1.26.1)\n",
      "Requirement already satisfied: scipy>=1.3.1 in /home/ec2-user/anaconda3/envs/tensorflow2_p310/lib/python3.10/site-packages (from umap-learn) (1.11.3)\n",
      "Requirement already satisfied: scikit-learn>=0.22 in /home/ec2-user/anaconda3/envs/tensorflow2_p310/lib/python3.10/site-packages (from umap-learn) (1.3.2)\n",
      "Requirement already satisfied: numba>=0.51.2 in /home/ec2-user/anaconda3/envs/tensorflow2_p310/lib/python3.10/site-packages (from umap-learn) (0.57.1)\n",
      "Collecting pynndescent>=0.5 (from umap-learn)\n",
      "  Downloading pynndescent-0.5.11-py3-none-any.whl.metadata (6.8 kB)\n",
      "Requirement already satisfied: tqdm in /home/ec2-user/anaconda3/envs/tensorflow2_p310/lib/python3.10/site-packages (from umap-learn) (4.66.1)\n",
      "Requirement already satisfied: llvmlite<0.41,>=0.40.0dev0 in /home/ec2-user/anaconda3/envs/tensorflow2_p310/lib/python3.10/site-packages (from numba>=0.51.2->umap-learn) (0.40.1)\n",
      "Collecting numpy>=1.17 (from umap-learn)\n",
      "  Downloading numpy-1.24.4-cp310-cp310-manylinux_2_17_x86_64.manylinux2014_x86_64.whl.metadata (5.6 kB)\n",
      "Requirement already satisfied: joblib>=0.11 in /home/ec2-user/anaconda3/envs/tensorflow2_p310/lib/python3.10/site-packages (from pynndescent>=0.5->umap-learn) (1.3.2)\n",
      "Requirement already satisfied: threadpoolctl>=2.0.0 in /home/ec2-user/anaconda3/envs/tensorflow2_p310/lib/python3.10/site-packages (from scikit-learn>=0.22->umap-learn) (3.2.0)\n",
      "Downloading numpy-1.24.4-cp310-cp310-manylinux_2_17_x86_64.manylinux2014_x86_64.whl (17.3 MB)\n",
      "\u001b[2K   \u001b[90m━━━━━━━━━━━━━━━━━━━━━━━━━━━━━━━━━━━━━━━━\u001b[0m \u001b[32m17.3/17.3 MB\u001b[0m \u001b[31m87.8 MB/s\u001b[0m eta \u001b[36m0:00:00\u001b[0m:00:01\u001b[0m00:01\u001b[0m\n",
      "\u001b[?25hDownloading pynndescent-0.5.11-py3-none-any.whl (55 kB)\n",
      "\u001b[2K   \u001b[90m━━━━━━━━━━━━━━━━━━━━━━━━━━━━━━━━━━━━━━━━\u001b[0m \u001b[32m55.8/55.8 kB\u001b[0m \u001b[31m9.8 MB/s\u001b[0m eta \u001b[36m0:00:00\u001b[0m\n",
      "\u001b[?25hBuilding wheels for collected packages: umap-learn\n",
      "  Building wheel for umap-learn (setup.py) ... \u001b[?25ldone\n",
      "\u001b[?25h  Created wheel for umap-learn: filename=umap_learn-0.5.5-py3-none-any.whl size=86832 sha256=6c7e60b58c55ce15d4a56338f5bd2bd6bcd2c157f32a2721fd1a9958205ec0a5\n",
      "  Stored in directory: /home/ec2-user/.cache/pip/wheels/3a/70/07/428d2b58660a1a3b431db59b806a10da736612ebbc66c1bcc5\n",
      "Successfully built umap-learn\n",
      "Installing collected packages: numpy, pynndescent, umap-learn\n",
      "  Attempting uninstall: numpy\n",
      "    Found existing installation: numpy 1.26.1\n",
      "    Uninstalling numpy-1.26.1:\n",
      "      Successfully uninstalled numpy-1.26.1\n",
      "\u001b[31mERROR: pip's dependency resolver does not currently take into account all the packages that are installed. This behaviour is the source of the following dependency conflicts.\n",
      "mkl-fft 1.3.8 requires mkl, which is not installed.\n",
      "tensorflow 2.13.1 requires numpy<=1.24.3,>=1.22, but you have numpy 1.24.4 which is incompatible.\u001b[0m\u001b[31m\n",
      "\u001b[0mSuccessfully installed numpy-1.24.4 pynndescent-0.5.11 umap-learn-0.5.5\n"
     ]
    }
   ],
   "source": [
    "!pip install umap-learn"
   ]
  },
  {
   "cell_type": "code",
   "execution_count": 2,
   "id": "3f4fb5c9-f6c6-480f-acfc-0e061cd3a10e",
   "metadata": {
    "tags": []
   },
   "outputs": [
    {
     "name": "stdout",
     "output_type": "stream",
     "text": [
      "Collecting seaborn==0.11.2\n",
      "  Downloading seaborn-0.11.2-py3-none-any.whl (292 kB)\n",
      "\u001b[2K     \u001b[90m━━━━━━━━━━━━━━━━━━━━━━━━━━━━━━━━━━━━━━━\u001b[0m \u001b[32m292.8/292.8 kB\u001b[0m \u001b[31m2.1 MB/s\u001b[0m eta \u001b[36m0:00:00\u001b[0m00:01\u001b[0m\n",
      "\u001b[?25hRequirement already satisfied: numpy>=1.15 in /home/ec2-user/anaconda3/envs/tensorflow2_p310/lib/python3.10/site-packages (from seaborn==0.11.2) (1.24.4)\n",
      "Requirement already satisfied: scipy>=1.0 in /home/ec2-user/anaconda3/envs/tensorflow2_p310/lib/python3.10/site-packages (from seaborn==0.11.2) (1.11.3)\n",
      "Requirement already satisfied: pandas>=0.23 in /home/ec2-user/anaconda3/envs/tensorflow2_p310/lib/python3.10/site-packages (from seaborn==0.11.2) (1.5.3)\n",
      "Requirement already satisfied: matplotlib>=2.2 in /home/ec2-user/anaconda3/envs/tensorflow2_p310/lib/python3.10/site-packages (from seaborn==0.11.2) (3.8.0)\n",
      "Requirement already satisfied: contourpy>=1.0.1 in /home/ec2-user/anaconda3/envs/tensorflow2_p310/lib/python3.10/site-packages (from matplotlib>=2.2->seaborn==0.11.2) (1.1.1)\n",
      "Requirement already satisfied: cycler>=0.10 in /home/ec2-user/anaconda3/envs/tensorflow2_p310/lib/python3.10/site-packages (from matplotlib>=2.2->seaborn==0.11.2) (0.12.1)\n",
      "Requirement already satisfied: fonttools>=4.22.0 in /home/ec2-user/anaconda3/envs/tensorflow2_p310/lib/python3.10/site-packages (from matplotlib>=2.2->seaborn==0.11.2) (4.43.1)\n",
      "Requirement already satisfied: kiwisolver>=1.0.1 in /home/ec2-user/anaconda3/envs/tensorflow2_p310/lib/python3.10/site-packages (from matplotlib>=2.2->seaborn==0.11.2) (1.4.5)\n",
      "Requirement already satisfied: packaging>=20.0 in /home/ec2-user/anaconda3/envs/tensorflow2_p310/lib/python3.10/site-packages (from matplotlib>=2.2->seaborn==0.11.2) (21.3)\n",
      "Requirement already satisfied: pillow>=6.2.0 in /home/ec2-user/anaconda3/envs/tensorflow2_p310/lib/python3.10/site-packages (from matplotlib>=2.2->seaborn==0.11.2) (10.1.0)\n",
      "Requirement already satisfied: pyparsing>=2.3.1 in /home/ec2-user/anaconda3/envs/tensorflow2_p310/lib/python3.10/site-packages (from matplotlib>=2.2->seaborn==0.11.2) (3.1.1)\n",
      "Requirement already satisfied: python-dateutil>=2.7 in /home/ec2-user/anaconda3/envs/tensorflow2_p310/lib/python3.10/site-packages (from matplotlib>=2.2->seaborn==0.11.2) (2.8.2)\n",
      "Requirement already satisfied: pytz>=2020.1 in /home/ec2-user/anaconda3/envs/tensorflow2_p310/lib/python3.10/site-packages (from pandas>=0.23->seaborn==0.11.2) (2023.3.post1)\n",
      "Requirement already satisfied: six>=1.5 in /home/ec2-user/anaconda3/envs/tensorflow2_p310/lib/python3.10/site-packages (from python-dateutil>=2.7->matplotlib>=2.2->seaborn==0.11.2) (1.16.0)\n",
      "Installing collected packages: seaborn\n",
      "  Attempting uninstall: seaborn\n",
      "    Found existing installation: seaborn 0.13.0\n",
      "    Uninstalling seaborn-0.13.0:\n",
      "      Successfully uninstalled seaborn-0.13.0\n",
      "Successfully installed seaborn-0.11.2\n"
     ]
    }
   ],
   "source": [
    "!pip install seaborn==0.11.2"
   ]
  },
  {
   "cell_type": "code",
   "execution_count": 61,
   "id": "4fe02adc-4e42-44a9-953e-191182ad36e0",
   "metadata": {
    "tags": []
   },
   "outputs": [],
   "source": [
    "import pandas as pd\n",
    "from pathlib import Path\n",
    "from sklearn.preprocessing import StandardScaler\n",
    "import numpy as np\n",
    "import matplotlib.pyplot as plt\n",
    "import seaborn as sns\n",
    "import umap\n",
    "import os\n",
    "import warnings\n",
    "warnings.filterwarnings(\"ignore\")"
   ]
  },
  {
   "cell_type": "code",
   "execution_count": 62,
   "id": "27a321df-538e-4450-9b5f-03adf17a8161",
   "metadata": {
    "tags": []
   },
   "outputs": [],
   "source": [
    "# Paths for the containers that we will create\n",
    "# S3 Bucket where the data is stored\n",
    "BUCKET_NAME = \"tbilisimeetup\"  # Put your S3 bucket name here\n",
    "BUCKET = f's3://{BUCKET_NAME}'\n",
    "\n",
    "# data paths\n",
    "DATA_FOLDER = 'data'\n",
    "DATA_FILE = 'data.csv'\n",
    "DATA_PATH = os.path.join(BUCKET, DATA_FOLDER, DATA_FILE)\n",
    "\n",
    "\n",
    "df = pd.read_csv(DATA_PATH)"
   ]
  },
  {
   "cell_type": "code",
   "execution_count": 63,
   "id": "6d7f1878-c58e-4bff-8541-c719085ecad7",
   "metadata": {
    "tags": []
   },
   "outputs": [
    {
     "name": "stdout",
     "output_type": "stream",
     "text": [
      "(150001, 28)\n"
     ]
    }
   ],
   "source": [
    "print(df.shape)"
   ]
  },
  {
   "cell_type": "code",
   "execution_count": 64,
   "id": "fdc1f644-e046-4ff1-86f9-41fb5fffa8f7",
   "metadata": {
    "tags": []
   },
   "outputs": [],
   "source": [
    "##We see that we have 28 attributes and 15000 raws with data, 1 raw contains the columns name. \n",
    "##The data is taken from here https://www.kaggle.com/datasets/varun23/credit-score-prediction"
   ]
  },
  {
   "cell_type": "code",
   "execution_count": 65,
   "id": "cd205de2-908a-4b9a-b9e1-d67246c02155",
   "metadata": {
    "tags": []
   },
   "outputs": [
    {
     "data": {
      "text/html": [
       "<div>\n",
       "<style scoped>\n",
       "    .dataframe tbody tr th:only-of-type {\n",
       "        vertical-align: middle;\n",
       "    }\n",
       "\n",
       "    .dataframe tbody tr th {\n",
       "        vertical-align: top;\n",
       "    }\n",
       "\n",
       "    .dataframe thead th {\n",
       "        text-align: right;\n",
       "    }\n",
       "</style>\n",
       "<table border=\"1\" class=\"dataframe\">\n",
       "  <thead>\n",
       "    <tr style=\"text-align: right;\">\n",
       "      <th></th>\n",
       "      <th>fraction of na</th>\n",
       "      <th>datatype</th>\n",
       "      <th>n_unique_entries</th>\n",
       "    </tr>\n",
       "  </thead>\n",
       "  <tbody>\n",
       "    <tr>\n",
       "      <th>ID</th>\n",
       "      <td>0.0</td>\n",
       "      <td>object</td>\n",
       "      <td>150001</td>\n",
       "    </tr>\n",
       "    <tr>\n",
       "      <th>Customer_ID</th>\n",
       "      <td>0.0</td>\n",
       "      <td>object</td>\n",
       "      <td>12501</td>\n",
       "    </tr>\n",
       "    <tr>\n",
       "      <th>Month</th>\n",
       "      <td>0.0</td>\n",
       "      <td>object</td>\n",
       "      <td>13</td>\n",
       "    </tr>\n",
       "    <tr>\n",
       "      <th>Name</th>\n",
       "      <td>0.099999</td>\n",
       "      <td>object</td>\n",
       "      <td>10140</td>\n",
       "    </tr>\n",
       "    <tr>\n",
       "      <th>Age</th>\n",
       "      <td>0.0</td>\n",
       "      <td>object</td>\n",
       "      <td>2525</td>\n",
       "    </tr>\n",
       "    <tr>\n",
       "      <th>SSN</th>\n",
       "      <td>0.0</td>\n",
       "      <td>object</td>\n",
       "      <td>12502</td>\n",
       "    </tr>\n",
       "    <tr>\n",
       "      <th>Occupation</th>\n",
       "      <td>0.0</td>\n",
       "      <td>object</td>\n",
       "      <td>17</td>\n",
       "    </tr>\n",
       "    <tr>\n",
       "      <th>Annual_Income</th>\n",
       "      <td>0.0</td>\n",
       "      <td>object</td>\n",
       "      <td>21193</td>\n",
       "    </tr>\n",
       "    <tr>\n",
       "      <th>Monthly_Inhand_Salary</th>\n",
       "      <td>0.149999</td>\n",
       "      <td>object</td>\n",
       "      <td>21566</td>\n",
       "    </tr>\n",
       "    <tr>\n",
       "      <th>Num_Bank_Accounts</th>\n",
       "      <td>0.0</td>\n",
       "      <td>object</td>\n",
       "      <td>1427</td>\n",
       "    </tr>\n",
       "    <tr>\n",
       "      <th>Num_Credit_Card</th>\n",
       "      <td>0.0</td>\n",
       "      <td>object</td>\n",
       "      <td>1870</td>\n",
       "    </tr>\n",
       "    <tr>\n",
       "      <th>Interest_Rate</th>\n",
       "      <td>0.0</td>\n",
       "      <td>object</td>\n",
       "      <td>2634</td>\n",
       "    </tr>\n",
       "    <tr>\n",
       "      <th>Num_of_Loan</th>\n",
       "      <td>0.0</td>\n",
       "      <td>object</td>\n",
       "      <td>624</td>\n",
       "    </tr>\n",
       "    <tr>\n",
       "      <th>Type_of_Loan</th>\n",
       "      <td>0.114079</td>\n",
       "      <td>object</td>\n",
       "      <td>6261</td>\n",
       "    </tr>\n",
       "    <tr>\n",
       "      <th>Delay_from_due_date</th>\n",
       "      <td>0.0</td>\n",
       "      <td>object</td>\n",
       "      <td>147</td>\n",
       "    </tr>\n",
       "    <tr>\n",
       "      <th>Num_of_Delayed_Payment</th>\n",
       "      <td>0.07</td>\n",
       "      <td>object</td>\n",
       "      <td>1059</td>\n",
       "    </tr>\n",
       "    <tr>\n",
       "      <th>Changed_Credit_Limit</th>\n",
       "      <td>0.0</td>\n",
       "      <td>object</td>\n",
       "      <td>4606</td>\n",
       "    </tr>\n",
       "    <tr>\n",
       "      <th>Num_Credit_Inquiries</th>\n",
       "      <td>0.02</td>\n",
       "      <td>object</td>\n",
       "      <td>1889</td>\n",
       "    </tr>\n",
       "    <tr>\n",
       "      <th>Credit_Mix</th>\n",
       "      <td>0.0</td>\n",
       "      <td>object</td>\n",
       "      <td>5</td>\n",
       "    </tr>\n",
       "    <tr>\n",
       "      <th>Outstanding_Debt</th>\n",
       "      <td>0.0</td>\n",
       "      <td>object</td>\n",
       "      <td>13623</td>\n",
       "    </tr>\n",
       "    <tr>\n",
       "      <th>Credit_Utilization_Ratio</th>\n",
       "      <td>0.0</td>\n",
       "      <td>object</td>\n",
       "      <td>150001</td>\n",
       "    </tr>\n",
       "    <tr>\n",
       "      <th>Credit_History_Age</th>\n",
       "      <td>0.089999</td>\n",
       "      <td>object</td>\n",
       "      <td>409</td>\n",
       "    </tr>\n",
       "    <tr>\n",
       "      <th>Payment_of_Min_Amount</th>\n",
       "      <td>0.0</td>\n",
       "      <td>object</td>\n",
       "      <td>4</td>\n",
       "    </tr>\n",
       "    <tr>\n",
       "      <th>Total_EMI_per_month</th>\n",
       "      <td>0.0</td>\n",
       "      <td>object</td>\n",
       "      <td>24086</td>\n",
       "    </tr>\n",
       "    <tr>\n",
       "      <th>Amount_invested_monthly</th>\n",
       "      <td>0.045</td>\n",
       "      <td>object</td>\n",
       "      <td>136498</td>\n",
       "    </tr>\n",
       "    <tr>\n",
       "      <th>Payment_Behaviour</th>\n",
       "      <td>0.0</td>\n",
       "      <td>object</td>\n",
       "      <td>8</td>\n",
       "    </tr>\n",
       "    <tr>\n",
       "      <th>Monthly_Balance</th>\n",
       "      <td>0.011747</td>\n",
       "      <td>object</td>\n",
       "      <td>148225</td>\n",
       "    </tr>\n",
       "    <tr>\n",
       "      <th>Credit_Score</th>\n",
       "      <td>0.333338</td>\n",
       "      <td>object</td>\n",
       "      <td>3</td>\n",
       "    </tr>\n",
       "  </tbody>\n",
       "</table>\n",
       "</div>"
      ],
      "text/plain": [
       "                         fraction of na datatype n_unique_entries\n",
       "ID                                  0.0   object           150001\n",
       "Customer_ID                         0.0   object            12501\n",
       "Month                               0.0   object               13\n",
       "Name                           0.099999   object            10140\n",
       "Age                                 0.0   object             2525\n",
       "SSN                                 0.0   object            12502\n",
       "Occupation                          0.0   object               17\n",
       "Annual_Income                       0.0   object            21193\n",
       "Monthly_Inhand_Salary          0.149999   object            21566\n",
       "Num_Bank_Accounts                   0.0   object             1427\n",
       "Num_Credit_Card                     0.0   object             1870\n",
       "Interest_Rate                       0.0   object             2634\n",
       "Num_of_Loan                         0.0   object              624\n",
       "Type_of_Loan                   0.114079   object             6261\n",
       "Delay_from_due_date                 0.0   object              147\n",
       "Num_of_Delayed_Payment             0.07   object             1059\n",
       "Changed_Credit_Limit                0.0   object             4606\n",
       "Num_Credit_Inquiries               0.02   object             1889\n",
       "Credit_Mix                          0.0   object                5\n",
       "Outstanding_Debt                    0.0   object            13623\n",
       "Credit_Utilization_Ratio            0.0   object           150001\n",
       "Credit_History_Age             0.089999   object              409\n",
       "Payment_of_Min_Amount               0.0   object                4\n",
       "Total_EMI_per_month                 0.0   object            24086\n",
       "Amount_invested_monthly           0.045   object           136498\n",
       "Payment_Behaviour                   0.0   object                8\n",
       "Monthly_Balance                0.011747   object           148225\n",
       "Credit_Score                   0.333338   object                3"
      ]
     },
     "execution_count": 65,
     "metadata": {},
     "output_type": "execute_result"
    }
   ],
   "source": [
    "(pd.DataFrame([df.isna().mean(), df.dtypes, df.nunique()])\n",
    "   .T\n",
    "   .rename({0:'fraction of na',\n",
    "            1:'datatype',\n",
    "            2:'n_unique_entries'}, axis=1))"
   ]
  },
  {
   "cell_type": "code",
   "execution_count": 66,
   "id": "8e2eda76-ee9b-438b-bba9-8df696094781",
   "metadata": {
    "tags": []
   },
   "outputs": [],
   "source": [
    "#Removing all rows with missing values\n",
    "df_cleaned=df.dropna()"
   ]
  },
  {
   "cell_type": "code",
   "execution_count": 67,
   "id": "d16a8622-a41b-403e-ad1d-5a3a5f524dd4",
   "metadata": {
    "tags": []
   },
   "outputs": [
    {
     "data": {
      "text/html": [
       "<div>\n",
       "<style scoped>\n",
       "    .dataframe tbody tr th:only-of-type {\n",
       "        vertical-align: middle;\n",
       "    }\n",
       "\n",
       "    .dataframe tbody tr th {\n",
       "        vertical-align: top;\n",
       "    }\n",
       "\n",
       "    .dataframe thead th {\n",
       "        text-align: right;\n",
       "    }\n",
       "</style>\n",
       "<table border=\"1\" class=\"dataframe\">\n",
       "  <thead>\n",
       "    <tr style=\"text-align: right;\">\n",
       "      <th></th>\n",
       "      <th>fraction of na</th>\n",
       "      <th>datatype</th>\n",
       "      <th>n_unique_entries</th>\n",
       "    </tr>\n",
       "  </thead>\n",
       "  <tbody>\n",
       "    <tr>\n",
       "      <th>ID</th>\n",
       "      <td>0.0</td>\n",
       "      <td>object</td>\n",
       "      <td>53049</td>\n",
       "    </tr>\n",
       "    <tr>\n",
       "      <th>Customer_ID</th>\n",
       "      <td>0.0</td>\n",
       "      <td>object</td>\n",
       "      <td>11071</td>\n",
       "    </tr>\n",
       "    <tr>\n",
       "      <th>Month</th>\n",
       "      <td>0.0</td>\n",
       "      <td>object</td>\n",
       "      <td>8</td>\n",
       "    </tr>\n",
       "    <tr>\n",
       "      <th>Name</th>\n",
       "      <td>0.0</td>\n",
       "      <td>object</td>\n",
       "      <td>9168</td>\n",
       "    </tr>\n",
       "    <tr>\n",
       "      <th>Age</th>\n",
       "      <td>0.0</td>\n",
       "      <td>object</td>\n",
       "      <td>1057</td>\n",
       "    </tr>\n",
       "    <tr>\n",
       "      <th>SSN</th>\n",
       "      <td>0.0</td>\n",
       "      <td>object</td>\n",
       "      <td>11064</td>\n",
       "    </tr>\n",
       "    <tr>\n",
       "      <th>Occupation</th>\n",
       "      <td>0.0</td>\n",
       "      <td>object</td>\n",
       "      <td>16</td>\n",
       "    </tr>\n",
       "    <tr>\n",
       "      <th>Annual_Income</th>\n",
       "      <td>0.0</td>\n",
       "      <td>object</td>\n",
       "      <td>14707</td>\n",
       "    </tr>\n",
       "    <tr>\n",
       "      <th>Monthly_Inhand_Salary</th>\n",
       "      <td>0.0</td>\n",
       "      <td>object</td>\n",
       "      <td>11629</td>\n",
       "    </tr>\n",
       "    <tr>\n",
       "      <th>Num_Bank_Accounts</th>\n",
       "      <td>0.0</td>\n",
       "      <td>object</td>\n",
       "      <td>585</td>\n",
       "    </tr>\n",
       "    <tr>\n",
       "      <th>Num_Credit_Card</th>\n",
       "      <td>0.0</td>\n",
       "      <td>object</td>\n",
       "      <td>880</td>\n",
       "    </tr>\n",
       "    <tr>\n",
       "      <th>Interest_Rate</th>\n",
       "      <td>0.0</td>\n",
       "      <td>object</td>\n",
       "      <td>1098</td>\n",
       "    </tr>\n",
       "    <tr>\n",
       "      <th>Num_of_Loan</th>\n",
       "      <td>0.0</td>\n",
       "      <td>object</td>\n",
       "      <td>249</td>\n",
       "    </tr>\n",
       "    <tr>\n",
       "      <th>Type_of_Loan</th>\n",
       "      <td>0.0</td>\n",
       "      <td>object</td>\n",
       "      <td>6259</td>\n",
       "    </tr>\n",
       "    <tr>\n",
       "      <th>Delay_from_due_date</th>\n",
       "      <td>0.0</td>\n",
       "      <td>object</td>\n",
       "      <td>138</td>\n",
       "    </tr>\n",
       "    <tr>\n",
       "      <th>Num_of_Delayed_Payment</th>\n",
       "      <td>0.0</td>\n",
       "      <td>object</td>\n",
       "      <td>470</td>\n",
       "    </tr>\n",
       "    <tr>\n",
       "      <th>Changed_Credit_Limit</th>\n",
       "      <td>0.0</td>\n",
       "      <td>object</td>\n",
       "      <td>3975</td>\n",
       "    </tr>\n",
       "    <tr>\n",
       "      <th>Num_Credit_Inquiries</th>\n",
       "      <td>0.0</td>\n",
       "      <td>object</td>\n",
       "      <td>765</td>\n",
       "    </tr>\n",
       "    <tr>\n",
       "      <th>Credit_Mix</th>\n",
       "      <td>0.0</td>\n",
       "      <td>object</td>\n",
       "      <td>4</td>\n",
       "    </tr>\n",
       "    <tr>\n",
       "      <th>Outstanding_Debt</th>\n",
       "      <td>0.0</td>\n",
       "      <td>object</td>\n",
       "      <td>11407</td>\n",
       "    </tr>\n",
       "    <tr>\n",
       "      <th>Credit_Utilization_Ratio</th>\n",
       "      <td>0.0</td>\n",
       "      <td>object</td>\n",
       "      <td>53049</td>\n",
       "    </tr>\n",
       "    <tr>\n",
       "      <th>Credit_History_Age</th>\n",
       "      <td>0.0</td>\n",
       "      <td>object</td>\n",
       "      <td>404</td>\n",
       "    </tr>\n",
       "    <tr>\n",
       "      <th>Payment_of_Min_Amount</th>\n",
       "      <td>0.0</td>\n",
       "      <td>object</td>\n",
       "      <td>3</td>\n",
       "    </tr>\n",
       "    <tr>\n",
       "      <th>Total_EMI_per_month</th>\n",
       "      <td>0.0</td>\n",
       "      <td>object</td>\n",
       "      <td>13302</td>\n",
       "    </tr>\n",
       "    <tr>\n",
       "      <th>Amount_invested_monthly</th>\n",
       "      <td>0.0</td>\n",
       "      <td>object</td>\n",
       "      <td>50540</td>\n",
       "    </tr>\n",
       "    <tr>\n",
       "      <th>Payment_Behaviour</th>\n",
       "      <td>0.0</td>\n",
       "      <td>object</td>\n",
       "      <td>7</td>\n",
       "    </tr>\n",
       "    <tr>\n",
       "      <th>Monthly_Balance</th>\n",
       "      <td>0.0</td>\n",
       "      <td>object</td>\n",
       "      <td>53044</td>\n",
       "    </tr>\n",
       "    <tr>\n",
       "      <th>Credit_Score</th>\n",
       "      <td>0.0</td>\n",
       "      <td>object</td>\n",
       "      <td>3</td>\n",
       "    </tr>\n",
       "  </tbody>\n",
       "</table>\n",
       "</div>"
      ],
      "text/plain": [
       "                         fraction of na datatype n_unique_entries\n",
       "ID                                  0.0   object            53049\n",
       "Customer_ID                         0.0   object            11071\n",
       "Month                               0.0   object                8\n",
       "Name                                0.0   object             9168\n",
       "Age                                 0.0   object             1057\n",
       "SSN                                 0.0   object            11064\n",
       "Occupation                          0.0   object               16\n",
       "Annual_Income                       0.0   object            14707\n",
       "Monthly_Inhand_Salary               0.0   object            11629\n",
       "Num_Bank_Accounts                   0.0   object              585\n",
       "Num_Credit_Card                     0.0   object              880\n",
       "Interest_Rate                       0.0   object             1098\n",
       "Num_of_Loan                         0.0   object              249\n",
       "Type_of_Loan                        0.0   object             6259\n",
       "Delay_from_due_date                 0.0   object              138\n",
       "Num_of_Delayed_Payment              0.0   object              470\n",
       "Changed_Credit_Limit                0.0   object             3975\n",
       "Num_Credit_Inquiries                0.0   object              765\n",
       "Credit_Mix                          0.0   object                4\n",
       "Outstanding_Debt                    0.0   object            11407\n",
       "Credit_Utilization_Ratio            0.0   object            53049\n",
       "Credit_History_Age                  0.0   object              404\n",
       "Payment_of_Min_Amount               0.0   object                3\n",
       "Total_EMI_per_month                 0.0   object            13302\n",
       "Amount_invested_monthly             0.0   object            50540\n",
       "Payment_Behaviour                   0.0   object                7\n",
       "Monthly_Balance                     0.0   object            53044\n",
       "Credit_Score                        0.0   object                3"
      ]
     },
     "execution_count": 67,
     "metadata": {},
     "output_type": "execute_result"
    }
   ],
   "source": [
    "(pd.DataFrame([df_cleaned.isna().mean(), df_cleaned.dtypes, df_cleaned.nunique()])\n",
    "   .T\n",
    "   .rename({0:'fraction of na',\n",
    "            1:'datatype',\n",
    "            2:'n_unique_entries'}, axis=1))"
   ]
  },
  {
   "cell_type": "code",
   "execution_count": 68,
   "id": "4ed6dcdb-3807-4f71-9fd5-59f166210a94",
   "metadata": {
    "tags": []
   },
   "outputs": [
    {
     "name": "stdout",
     "output_type": "stream",
     "text": [
      "(53049, 28)\n"
     ]
    }
   ],
   "source": [
    "print(df_cleaned.shape)"
   ]
  },
  {
   "cell_type": "code",
   "execution_count": 69,
   "id": "2d111584-0481-44f9-a81d-1235625aa612",
   "metadata": {
    "tags": []
   },
   "outputs": [
    {
     "data": {
      "text/html": [
       "<div>\n",
       "<style scoped>\n",
       "    .dataframe tbody tr th:only-of-type {\n",
       "        vertical-align: middle;\n",
       "    }\n",
       "\n",
       "    .dataframe tbody tr th {\n",
       "        vertical-align: top;\n",
       "    }\n",
       "\n",
       "    .dataframe thead th {\n",
       "        text-align: right;\n",
       "    }\n",
       "</style>\n",
       "<table border=\"1\" class=\"dataframe\">\n",
       "  <thead>\n",
       "    <tr style=\"text-align: right;\">\n",
       "      <th></th>\n",
       "      <th>ID</th>\n",
       "      <th>Customer_ID</th>\n",
       "      <th>Month</th>\n",
       "      <th>Name</th>\n",
       "      <th>Age</th>\n",
       "      <th>SSN</th>\n",
       "      <th>Occupation</th>\n",
       "      <th>Annual_Income</th>\n",
       "      <th>Monthly_Inhand_Salary</th>\n",
       "      <th>Num_Bank_Accounts</th>\n",
       "      <th>...</th>\n",
       "      <th>Credit_Mix</th>\n",
       "      <th>Outstanding_Debt</th>\n",
       "      <th>Credit_Utilization_Ratio</th>\n",
       "      <th>Credit_History_Age</th>\n",
       "      <th>Payment_of_Min_Amount</th>\n",
       "      <th>Total_EMI_per_month</th>\n",
       "      <th>Amount_invested_monthly</th>\n",
       "      <th>Payment_Behaviour</th>\n",
       "      <th>Monthly_Balance</th>\n",
       "      <th>Credit_Score</th>\n",
       "    </tr>\n",
       "  </thead>\n",
       "  <tbody>\n",
       "    <tr>\n",
       "      <th>0</th>\n",
       "      <td>0x1602</td>\n",
       "      <td>CUS_0xd40</td>\n",
       "      <td>January</td>\n",
       "      <td>Aaron Maashoh</td>\n",
       "      <td>23</td>\n",
       "      <td>821-00-0265</td>\n",
       "      <td>Scientist</td>\n",
       "      <td>19114.12</td>\n",
       "      <td>1824.843333</td>\n",
       "      <td>3</td>\n",
       "      <td>...</td>\n",
       "      <td>_</td>\n",
       "      <td>809.98</td>\n",
       "      <td>26.82262</td>\n",
       "      <td>22 Years and 1 Months</td>\n",
       "      <td>No</td>\n",
       "      <td>49.574949</td>\n",
       "      <td>80.41529543900253</td>\n",
       "      <td>High_spent_Small_value_payments</td>\n",
       "      <td>312.49408867943663</td>\n",
       "      <td>Good</td>\n",
       "    </tr>\n",
       "    <tr>\n",
       "      <th>6</th>\n",
       "      <td>0x1608</td>\n",
       "      <td>CUS_0xd40</td>\n",
       "      <td>July</td>\n",
       "      <td>Aaron Maashoh</td>\n",
       "      <td>23</td>\n",
       "      <td>821-00-0265</td>\n",
       "      <td>Scientist</td>\n",
       "      <td>19114.12</td>\n",
       "      <td>1824.843333</td>\n",
       "      <td>3</td>\n",
       "      <td>...</td>\n",
       "      <td>Good</td>\n",
       "      <td>809.98</td>\n",
       "      <td>22.537593</td>\n",
       "      <td>22 Years and 7 Months</td>\n",
       "      <td>No</td>\n",
       "      <td>49.574949</td>\n",
       "      <td>178.3440674122349</td>\n",
       "      <td>Low_spent_Small_value_payments</td>\n",
       "      <td>244.5653167062043</td>\n",
       "      <td>Good</td>\n",
       "    </tr>\n",
       "    <tr>\n",
       "      <th>8</th>\n",
       "      <td>0x160e</td>\n",
       "      <td>CUS_0x21b1</td>\n",
       "      <td>January</td>\n",
       "      <td>Rick Rothackerj</td>\n",
       "      <td>28_</td>\n",
       "      <td>004-07-5839</td>\n",
       "      <td>_______</td>\n",
       "      <td>34847.84</td>\n",
       "      <td>3037.986667</td>\n",
       "      <td>2</td>\n",
       "      <td>...</td>\n",
       "      <td>Good</td>\n",
       "      <td>605.03</td>\n",
       "      <td>24.464031</td>\n",
       "      <td>26 Years and 7 Months</td>\n",
       "      <td>No</td>\n",
       "      <td>18.816215</td>\n",
       "      <td>104.291825168246</td>\n",
       "      <td>Low_spent_Small_value_payments</td>\n",
       "      <td>470.69062692529184</td>\n",
       "      <td>Standard</td>\n",
       "    </tr>\n",
       "    <tr>\n",
       "      <th>9</th>\n",
       "      <td>0x160f</td>\n",
       "      <td>CUS_0x21b1</td>\n",
       "      <td>February</td>\n",
       "      <td>Rick Rothackerj</td>\n",
       "      <td>28</td>\n",
       "      <td>004-07-5839</td>\n",
       "      <td>Teacher</td>\n",
       "      <td>34847.84</td>\n",
       "      <td>3037.986667</td>\n",
       "      <td>2</td>\n",
       "      <td>...</td>\n",
       "      <td>Good</td>\n",
       "      <td>605.03</td>\n",
       "      <td>38.550848</td>\n",
       "      <td>26 Years and 8 Months</td>\n",
       "      <td>No</td>\n",
       "      <td>18.816215</td>\n",
       "      <td>40.39123782853101</td>\n",
       "      <td>High_spent_Large_value_payments</td>\n",
       "      <td>484.5912142650067</td>\n",
       "      <td>Good</td>\n",
       "    </tr>\n",
       "    <tr>\n",
       "      <th>10</th>\n",
       "      <td>0x1610</td>\n",
       "      <td>CUS_0x21b1</td>\n",
       "      <td>March</td>\n",
       "      <td>Rick Rothackerj</td>\n",
       "      <td>28</td>\n",
       "      <td>004-07-5839</td>\n",
       "      <td>Teacher</td>\n",
       "      <td>34847.84_</td>\n",
       "      <td>3037.986667</td>\n",
       "      <td>2</td>\n",
       "      <td>...</td>\n",
       "      <td>_</td>\n",
       "      <td>605.03</td>\n",
       "      <td>33.224951</td>\n",
       "      <td>26 Years and 9 Months</td>\n",
       "      <td>No</td>\n",
       "      <td>18.816215</td>\n",
       "      <td>58.51597569589465</td>\n",
       "      <td>High_spent_Large_value_payments</td>\n",
       "      <td>466.46647639764313</td>\n",
       "      <td>Standard</td>\n",
       "    </tr>\n",
       "  </tbody>\n",
       "</table>\n",
       "<p>5 rows × 28 columns</p>\n",
       "</div>"
      ],
      "text/plain": [
       "        ID Customer_ID     Month             Name  Age          SSN  \\\n",
       "0   0x1602   CUS_0xd40   January    Aaron Maashoh   23  821-00-0265   \n",
       "6   0x1608   CUS_0xd40      July    Aaron Maashoh   23  821-00-0265   \n",
       "8   0x160e  CUS_0x21b1   January  Rick Rothackerj  28_  004-07-5839   \n",
       "9   0x160f  CUS_0x21b1  February  Rick Rothackerj   28  004-07-5839   \n",
       "10  0x1610  CUS_0x21b1     March  Rick Rothackerj   28  004-07-5839   \n",
       "\n",
       "   Occupation Annual_Income Monthly_Inhand_Salary Num_Bank_Accounts  ...  \\\n",
       "0   Scientist      19114.12           1824.843333                 3  ...   \n",
       "6   Scientist      19114.12           1824.843333                 3  ...   \n",
       "8     _______      34847.84           3037.986667                 2  ...   \n",
       "9     Teacher      34847.84           3037.986667                 2  ...   \n",
       "10    Teacher     34847.84_           3037.986667                 2  ...   \n",
       "\n",
       "   Credit_Mix Outstanding_Debt Credit_Utilization_Ratio  \\\n",
       "0           _           809.98                 26.82262   \n",
       "6        Good           809.98                22.537593   \n",
       "8        Good           605.03                24.464031   \n",
       "9        Good           605.03                38.550848   \n",
       "10          _           605.03                33.224951   \n",
       "\n",
       "       Credit_History_Age Payment_of_Min_Amount Total_EMI_per_month  \\\n",
       "0   22 Years and 1 Months                    No           49.574949   \n",
       "6   22 Years and 7 Months                    No           49.574949   \n",
       "8   26 Years and 7 Months                    No           18.816215   \n",
       "9   26 Years and 8 Months                    No           18.816215   \n",
       "10  26 Years and 9 Months                    No           18.816215   \n",
       "\n",
       "   Amount_invested_monthly                Payment_Behaviour  \\\n",
       "0        80.41529543900253  High_spent_Small_value_payments   \n",
       "6        178.3440674122349   Low_spent_Small_value_payments   \n",
       "8         104.291825168246   Low_spent_Small_value_payments   \n",
       "9        40.39123782853101  High_spent_Large_value_payments   \n",
       "10       58.51597569589465  High_spent_Large_value_payments   \n",
       "\n",
       "       Monthly_Balance Credit_Score  \n",
       "0   312.49408867943663         Good  \n",
       "6    244.5653167062043         Good  \n",
       "8   470.69062692529184     Standard  \n",
       "9    484.5912142650067         Good  \n",
       "10  466.46647639764313     Standard  \n",
       "\n",
       "[5 rows x 28 columns]"
      ]
     },
     "execution_count": 69,
     "metadata": {},
     "output_type": "execute_result"
    }
   ],
   "source": [
    "df_cleaned.head()"
   ]
  },
  {
   "cell_type": "code",
   "execution_count": 71,
   "id": "87ce53cd-f3c8-48bd-b9cc-9445655fc2b8",
   "metadata": {
    "tags": []
   },
   "outputs": [
    {
     "data": {
      "text/plain": [
       "array(['Scientist', '_______', 'Teacher', 'Engineer', 'Entrepreneur',\n",
       "       'Lawyer', 'Media_Manager', 'Doctor', 'Journalist', 'Manager',\n",
       "       'Mechanic', 'Writer', 'Accountant', 'Architect', 'Musician',\n",
       "       'Developer'], dtype=object)"
      ]
     },
     "execution_count": 71,
     "metadata": {},
     "output_type": "execute_result"
    }
   ],
   "source": [
    "#Let's check what kind of occupataions we have in the dataset\n",
    "df_cleaned.Occupation.unique()"
   ]
  },
  {
   "cell_type": "code",
   "execution_count": 72,
   "id": "3fb46c36-3a19-45c4-9d79-904febba1de4",
   "metadata": {
    "tags": []
   },
   "outputs": [],
   "source": [
    "df_cleaned.loc[df[\"Occupation\"] == \"_______\", \"Occupation\"] = \"Unknown\""
   ]
  },
  {
   "cell_type": "code",
   "execution_count": 81,
   "id": "e6d71dad-97a0-4229-aebd-695b28087511",
   "metadata": {
    "tags": []
   },
   "outputs": [
    {
     "data": {
      "text/plain": [
       "array(['Scientist', 'Unknown', 'Teacher', 'Engineer', 'Entrepreneur',\n",
       "       'Lawyer', 'Media_Manager', 'Doctor', 'Journalist', 'Manager',\n",
       "       'Mechanic', 'Writer', 'Accountant', 'Architect', 'Musician',\n",
       "       'Developer'], dtype=object)"
      ]
     },
     "execution_count": 81,
     "metadata": {},
     "output_type": "execute_result"
    }
   ],
   "source": [
    "#print(df_cleaned['Occupation'].value_counts()['_______'])\n",
    "df_cleaned.Occupation.unique()"
   ]
  },
  {
   "cell_type": "code",
   "execution_count": 77,
   "id": "c1c4cacc-c598-4bcf-a028-4ad7e79d4c53",
   "metadata": {
    "tags": []
   },
   "outputs": [
    {
     "data": {
      "text/plain": [
       "array(['High_spent_Small_value_payments',\n",
       "       'Low_spent_Small_value_payments',\n",
       "       'High_spent_Large_value_payments', '!@9#%8',\n",
       "       'Low_spent_Large_value_payments',\n",
       "       'High_spent_Medium_value_payments',\n",
       "       'Low_spent_Medium_value_payments'], dtype=object)"
      ]
     },
     "execution_count": 77,
     "metadata": {},
     "output_type": "execute_result"
    }
   ],
   "source": [
    "df_cleaned.Payment_Behaviour.unique()"
   ]
  },
  {
   "cell_type": "code",
   "execution_count": 78,
   "id": "0f057a81-5eb3-43da-95a2-9869d82383d6",
   "metadata": {
    "tags": []
   },
   "outputs": [],
   "source": [
    "#print(df_cleaned['Payment_Behaviour'].value_counts()['!@9#%8'])\n",
    "df_cleaned.loc[df[\"Payment_Behaviour\"] == \"!@9#%8\", \"Payment_Behaviour\"] = \"Unknown\""
   ]
  },
  {
   "cell_type": "code",
   "execution_count": 80,
   "id": "ab84e085-75e8-4ef0-aca7-7e117bf02985",
   "metadata": {
    "tags": []
   },
   "outputs": [
    {
     "data": {
      "text/plain": [
       "array(['High_spent_Small_value_payments',\n",
       "       'Low_spent_Small_value_payments',\n",
       "       'High_spent_Large_value_payments', 'Unknown',\n",
       "       'Low_spent_Large_value_payments',\n",
       "       'High_spent_Medium_value_payments',\n",
       "       'Low_spent_Medium_value_payments'], dtype=object)"
      ]
     },
     "execution_count": 80,
     "metadata": {},
     "output_type": "execute_result"
    }
   ],
   "source": [
    "df_cleaned.Payment_Behaviour.unique()"
   ]
  },
  {
   "cell_type": "code",
   "execution_count": 39,
   "id": "9b193f1a-7298-4ee5-8e43-fa97fc288a5c",
   "metadata": {
    "tags": []
   },
   "outputs": [
    {
     "data": {
      "text/plain": [
       "array(['CUS_0xd40', 'CUS_0x21b1', 'CUS_0x2dbc', ..., 'CUS_0xaf61',\n",
       "       'CUS_0x8600', 'CUS_0x942c'], dtype=object)"
      ]
     },
     "execution_count": 39,
     "metadata": {},
     "output_type": "execute_result"
    }
   ],
   "source": [
    "df_cleaned.Customer_ID.unique()"
   ]
  },
  {
   "cell_type": "code",
   "execution_count": 40,
   "id": "ea817d6f-ffe8-4cae-b5ba-255a92770432",
   "metadata": {
    "tags": []
   },
   "outputs": [
    {
     "data": {
      "text/plain": [
       "array(['January', 'July', 'February', 'March', 'May', 'June', 'August',\n",
       "       'April'], dtype=object)"
      ]
     },
     "execution_count": 40,
     "metadata": {},
     "output_type": "execute_result"
    }
   ],
   "source": [
    "df_cleaned.Month.unique()"
   ]
  },
  {
   "cell_type": "code",
   "execution_count": 41,
   "id": "fe15802c-0578-4ebc-a11a-8f5a70bdd767",
   "metadata": {
    "tags": []
   },
   "outputs": [
    {
     "data": {
      "text/plain": [
       "array(['Aaron Maashoh', 'Rick Rothackerj', 'Langep', ...,\n",
       "       'Chris Wickhamm', 'Sarah McBridec', 'Nicks'], dtype=object)"
      ]
     },
     "execution_count": 41,
     "metadata": {},
     "output_type": "execute_result"
    }
   ],
   "source": [
    "df_cleaned.Name.unique()"
   ]
  },
  {
   "cell_type": "code",
   "execution_count": 82,
   "id": "1fa6d7b2-823e-413c-94b0-03685edfb3f1",
   "metadata": {
    "tags": []
   },
   "outputs": [
    {
     "data": {
      "text/plain": [
       "array(['Unknown', 'Good', 'Standard', 'Bad'], dtype=object)"
      ]
     },
     "execution_count": 82,
     "metadata": {},
     "output_type": "execute_result"
    }
   ],
   "source": [
    "df_cleaned.loc[df[\"Credit_Mix\"] == \"_\", \"Credit_Mix\"] = \"Unknown\"\n",
    "df_cleaned.Credit_Mix.unique()"
   ]
  },
  {
   "cell_type": "code",
   "execution_count": 83,
   "id": "1053bb53-8fef-4a73-b61a-56628c694b7f",
   "metadata": {
    "tags": []
   },
   "outputs": [
    {
     "data": {
      "text/plain": [
       "array(['Good', 'Standard', 'Poor'], dtype=object)"
      ]
     },
     "execution_count": 83,
     "metadata": {},
     "output_type": "execute_result"
    }
   ],
   "source": [
    "df_cleaned.Credit_Score.unique()"
   ]
  },
  {
   "cell_type": "code",
   "execution_count": 91,
   "id": "3da96d45-1985-4d4c-a45e-181264d5959f",
   "metadata": {
    "tags": []
   },
   "outputs": [],
   "source": [
    "numerical_columns=['Age','Annual_Income','Monthly_Inhand_Salary','Num_Bank_Accounts','Outstanding_Debt','Credit_Utilization_Ratio','Total_EMI_per_month','Amount_invested_monthly','Monthly_Balance']"
   ]
  },
  {
   "cell_type": "code",
   "execution_count": 92,
   "id": "402725c8-8eba-4c9f-ad9b-c57e74571e86",
   "metadata": {
    "tags": []
   },
   "outputs": [],
   "source": [
    "#cleaning up the numbers, removing \"_\"\n",
    "for column in numerical_columns:\n",
    "    df_cleaned[column] = df_cleaned[column].astype(str).str.replace('_', '')"
   ]
  },
  {
   "cell_type": "code",
   "execution_count": 93,
   "id": "300fff08-6042-4bb7-b342-b5eaba60ac29",
   "metadata": {
    "tags": []
   },
   "outputs": [],
   "source": [
    "df_cleaned[numerical_columns] = df_cleaned[numerical_columns].apply(pd.to_numeric, errors='coerce')"
   ]
  },
  {
   "cell_type": "code",
   "execution_count": 94,
   "id": "6d1a24ab-6f2c-4d5e-846b-fda75394772e",
   "metadata": {
    "tags": []
   },
   "outputs": [
    {
     "name": "stdout",
     "output_type": "stream",
     "text": [
      "    Age  Annual_Income  Monthly_Inhand_Salary  Num_Bank_Accounts  \\\n",
      "0    23       19114.12            1824.843333                  3   \n",
      "6    23       19114.12            1824.843333                  3   \n",
      "8    28       34847.84            3037.986667                  2   \n",
      "9    28       34847.84            3037.986667                  2   \n",
      "10   28       34847.84            3037.986667                  2   \n",
      "\n",
      "    Outstanding_Debt  Credit_Utilization_Ratio  Total_EMI_per_month  \\\n",
      "0             809.98                 26.822620            49.574949   \n",
      "6             809.98                 22.537593            49.574949   \n",
      "8             605.03                 24.464031            18.816215   \n",
      "9             605.03                 38.550848            18.816215   \n",
      "10            605.03                 33.224951            18.816215   \n",
      "\n",
      "    Amount_invested_monthly  Monthly_Balance  \n",
      "0                 80.415295       312.494089  \n",
      "6                178.344067       244.565317  \n",
      "8                104.291825       470.690627  \n",
      "9                 40.391238       484.591214  \n",
      "10                58.515976       466.466476  \n"
     ]
    }
   ],
   "source": [
    "df_without_text_columns = df_cleaned[numerical_columns]\n",
    "print(df_without_text_columns.head())"
   ]
  },
  {
   "cell_type": "code",
   "execution_count": 95,
   "id": "c2be98e2-d520-4e57-af76-c12aefbaa183",
   "metadata": {
    "tags": []
   },
   "outputs": [],
   "source": [
    "# Calculate the correlation matrix\n",
    "correlation_matrix = df_without_text_columns.corr()"
   ]
  },
  {
   "cell_type": "code",
   "execution_count": 96,
   "id": "a03cd668-7411-45d0-82f6-7032bf888e02",
   "metadata": {
    "tags": []
   },
   "outputs": [
    {
     "data": {
      "image/png": "[encoded data removed]",
      "text/plain": [
       "<Figure size 800x600 with 2 Axes>"
      ]
     },
     "metadata": {},
     "output_type": "display_data"
    }
   ],
   "source": [
    "# Plot the correlation matrix using a heatmap\n",
    "plt.figure(figsize=(8, 6))\n",
    "sns.heatmap(correlation_matrix, annot=True, cmap='coolwarm', fmt=\".2f\", linewidths=.5)\n",
    "plt.title(\"Correlation Matrix\")\n",
    "plt.show()"
   ]
  },
  {
   "cell_type": "code",
   "execution_count": null,
   "id": "4fb00abe-1743-47df-91c5-6f6c04172974",
   "metadata": {},
   "outputs": [],
   "source": []
  }
 ],
 "metadata": {
  "kernelspec": {
   "display_name": "conda_tensorflow2_p310",
   "language": "python",
   "name": "conda_tensorflow2_p310"
  },
  "language_info": {
   "codemirror_mode": {
    "name": "ipython",
    "version": 3
   },
   "file_extension": ".py",
   "mimetype": "text/x-python",
   "name": "python",
   "nbconvert_exporter": "python",
   "pygments_lexer": "ipython3",
   "version": "3.10.13"
  }
 },
 "nbformat": 4,
 "nbformat_minor": 5
}
